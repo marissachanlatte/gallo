{
 "cells": [
  {
   "cell_type": "code",
   "execution_count": 1,
   "metadata": {
    "collapsed": true
   },
   "outputs": [],
   "source": [
    "import numpy as np\n",
    "import matplotlib.pyplot as plt\n",
    "import matplotlib.tri as tri\n",
    "from __future__ import division"
   ]
  },
  {
   "cell_type": "markdown",
   "metadata": {},
   "source": [
    "# SAAF VALIDATION"
   ]
  },
  {
   "cell_type": "markdown",
   "metadata": {},
   "source": [
    "Hand Calculation of SAAF on two-element grid"
   ]
  },
  {
   "cell_type": "code",
   "execution_count": 2,
   "metadata": {
    "scrolled": true
   },
   "outputs": [
    {
     "data": {
      "image/png": "[encoded data removed]",
      "text/plain": [
       "<matplotlib.figure.Figure at 0x1110d9910>"
      ]
     },
     "metadata": {},
     "output_type": "display_data"
    }
   ],
   "source": [
    "x = np.array([0, 1, 1, 0])\n",
    "y = np.array([0, 0, 1, 1])\n",
    "triangles = np.array([[3, 0, 1], [1, 2, 3]])\n",
    "triangulation = tri.Triangulation(x, y, triangles=triangles)\n",
    "plt.triplot(triangulation)\n",
    "plt.scatter(x, y, marker='o')\n",
    "for i in range(4):\n",
    "    plt.annotate(i, (x[i], y[i]))\n",
    "plt.show()"
   ]
  },
  {
   "cell_type": "markdown",
   "metadata": {},
   "source": [
    "$\\Omega = [.5773503, .5773503], \\sigma_t = 1, \\frac{1}{\\sigma_t} = 1$"
   ]
  },
  {
   "cell_type": "code",
   "execution_count": 3,
   "metadata": {
    "collapsed": true
   },
   "outputs": [],
   "source": [
    "omega = np.array([.5773503,-.5773503])\n",
    "sigt = 1\n",
    "inv_sigt = 1"
   ]
  },
  {
   "cell_type": "markdown",
   "metadata": {},
   "source": [
    "Instantiate A matrix (four nodes $\\rightarrow$ 4x4)"
   ]
  },
  {
   "cell_type": "code",
   "execution_count": 4,
   "metadata": {
    "collapsed": true
   },
   "outputs": [],
   "source": [
    "A = np.zeros((4, 4))"
   ]
  },
  {
   "cell_type": "markdown",
   "metadata": {},
   "source": [
    "### Loop over the elements:\n",
    "    for element 0, calculate the basis functions"
   ]
  },
  {
   "cell_type": "code",
   "execution_count": 5,
   "metadata": {
    "scrolled": true
   },
   "outputs": [
    {
     "data": {
      "text/plain": [
       "array([[ 0.,  1.,  0.],\n",
       "       [ 0., -1.,  1.],\n",
       "       [ 1., -1.,  0.]])"
      ]
     },
     "execution_count": 5,
     "metadata": {},
     "output_type": "execute_result"
    }
   ],
   "source": [
    "V = np.array([[1, 0, 1], [1, 0, 0], [1, 1, 0]])\n",
    "C = np.linalg.inv(V)\n",
    "C"
   ]
  },
  {
   "cell_type": "markdown",
   "metadata": {},
   "source": [
    "Basis functions (using global node numbers as indicies)\n",
    "$\\varphi_3 = 0 + 0x + 1y  = y\\\\\n",
    "\\varphi_0 = 1 + -1x -1y = 1 - (x+y) \\\\\n",
    "\\varphi_1 = 0 + x +0y = x$"
   ]
  },
  {
   "cell_type": "markdown",
   "metadata": {},
   "source": [
    "Loop through basis function pairs:\n",
    "\n",
    "$<\\varphi_3, \\varphi_3> \\int_D \\frac{1}{\\sigma_t}\\Omega \\cdot \\nabla \\varphi_3 \\Omega \\cdot \\nabla \\varphi_3 $ "
   ]
  },
  {
   "cell_type": "code",
   "execution_count": 6,
   "metadata": {
    "collapsed": true
   },
   "outputs": [],
   "source": [
    "grad3 = np.array([0, 1])\n",
    "area = .5\n",
    "A[3, 3] += inv_sigt*np.dot(omega, grad3)*np.dot(omega, grad3)*area"
   ]
  },
  {
   "cell_type": "markdown",
   "metadata": {},
   "source": [
    "$<\\varphi_3, \\varphi_3>  \\int_D \\sigma_t \\varphi_3 \\varphi_3 =\\int_0^1 \\int_0^{-x + 1} y^2 dy dx = \\frac{1}{12}$"
   ]
  },
  {
   "cell_type": "code",
   "execution_count": 7,
   "metadata": {
    "collapsed": true
   },
   "outputs": [],
   "source": [
    "A[3, 3] += 1/12"
   ]
  },
  {
   "cell_type": "markdown",
   "metadata": {},
   "source": [
    "$<\\varphi_3, \\varphi_0> \\int_D \\frac{1}{\\sigma_t}\\Omega \\cdot \\nabla \\varphi_3 \\Omega \\cdot \\nabla \\varphi_0 $ "
   ]
  },
  {
   "cell_type": "code",
   "execution_count": 8,
   "metadata": {
    "collapsed": true
   },
   "outputs": [],
   "source": [
    "grad0 = np.array([-1, -1])\n",
    "A[3, 0] += inv_sigt*np.dot(omega, grad3)*np.dot(omega, grad0)*area"
   ]
  },
  {
   "cell_type": "markdown",
   "metadata": {},
   "source": [
    "$<\\varphi_3, \\varphi_0>  \\int_D \\sigma_t \\varphi_3 \\varphi_0 = \\int_0^1 \\int_0^{-x + 1} y - xy - y^2 dy dx = \\frac{1}{24} $"
   ]
  },
  {
   "cell_type": "code",
   "execution_count": 9,
   "metadata": {
    "collapsed": true
   },
   "outputs": [],
   "source": [
    "A[3, 0] += 1/24"
   ]
  },
  {
   "cell_type": "markdown",
   "metadata": {},
   "source": [
    "$<\\varphi_3, \\varphi_1> \\int_D \\frac{1}{\\sigma_t}\\Omega \\cdot \\nabla \\varphi_3 \\Omega \\cdot \\nabla \\varphi_1 $ "
   ]
  },
  {
   "cell_type": "code",
   "execution_count": 10,
   "metadata": {
    "collapsed": true
   },
   "outputs": [],
   "source": [
    "grad1 = np.array([1, 0])\n",
    "A[3, 1] += inv_sigt*np.dot(omega, grad3)*np.dot(omega, grad1)*area"
   ]
  },
  {
   "cell_type": "markdown",
   "metadata": {},
   "source": [
    "$<\\varphi_3, \\varphi_1>  \\int_D \\sigma_t \\varphi_3 \\varphi_0=1 = \\int_0^1 \\int_0^{-x + 1} xy dy dx = \\frac{1}{24} $"
   ]
  },
  {
   "cell_type": "code",
   "execution_count": 11,
   "metadata": {
    "collapsed": true
   },
   "outputs": [],
   "source": [
    "A[3, 1] += 1/24"
   ]
  },
  {
   "cell_type": "markdown",
   "metadata": {},
   "source": [
    "$<\\varphi_0, \\varphi_3> \\int_D \\frac{1}{\\sigma_t}\\Omega \\cdot \\nabla \\varphi_3 \\Omega \\cdot \\nabla \\varphi_0 $ "
   ]
  },
  {
   "cell_type": "code",
   "execution_count": 12,
   "metadata": {
    "collapsed": true
   },
   "outputs": [],
   "source": [
    "A[0, 3] += inv_sigt*np.dot(omega, grad3)*np.dot(omega, grad0)*area"
   ]
  },
  {
   "cell_type": "markdown",
   "metadata": {},
   "source": [
    "$<\\varphi_0, \\varphi_3>  \\int_D \\sigma_t \\varphi_3 \\varphi_0 = \\int_0^1 \\int_0^{-x + 1} y - xy - y^2 dy dx = \\frac{1}{24} $"
   ]
  },
  {
   "cell_type": "code",
   "execution_count": 13,
   "metadata": {
    "collapsed": true
   },
   "outputs": [],
   "source": [
    "A[0, 3] += 1/24"
   ]
  },
  {
   "cell_type": "markdown",
   "metadata": {},
   "source": [
    "$<\\varphi_0, \\varphi_0> \\int_D \\frac{1}{\\sigma_t}\\Omega \\cdot \\nabla \\varphi_0 \\Omega \\cdot \\nabla \\varphi_0 $ "
   ]
  },
  {
   "cell_type": "code",
   "execution_count": 14,
   "metadata": {
    "collapsed": true
   },
   "outputs": [],
   "source": [
    "A[0, 0] += inv_sigt*np.dot(omega, grad0)*np.dot(omega, grad0)*area"
   ]
  },
  {
   "cell_type": "markdown",
   "metadata": {},
   "source": [
    "$<\\varphi_0, \\varphi_0>  \\int_D \\sigma_t \\varphi_0 \\varphi_0 = \\int_0^1 \\int_0^{-x + 1} (1-x-y)^2 dy dx = \\frac{1}{12}$"
   ]
  },
  {
   "cell_type": "code",
   "execution_count": 15,
   "metadata": {
    "collapsed": true
   },
   "outputs": [],
   "source": [
    "A[0, 0] += 1/12"
   ]
  },
  {
   "cell_type": "markdown",
   "metadata": {},
   "source": [
    "$<\\varphi_0, \\varphi_1> \\int_D \\frac{1}{\\sigma_t}\\Omega \\cdot \\nabla \\varphi_0 \\Omega \\cdot \\nabla \\varphi_1 $ "
   ]
  },
  {
   "cell_type": "code",
   "execution_count": 16,
   "metadata": {
    "collapsed": true
   },
   "outputs": [],
   "source": [
    "A[0, 1] += inv_sigt*np.dot(omega, grad0)*np.dot(omega, grad1)*area"
   ]
  },
  {
   "cell_type": "markdown",
   "metadata": {},
   "source": [
    "$<\\varphi_0, \\varphi_1>  \\int_D \\sigma_t \\varphi_0 \\varphi_1 = \\int_0^1 \\int_0^{-x + 1} x - x^2 - xy dy dx = \\frac{1}{24] $"
   ]
  },
  {
   "cell_type": "code",
   "execution_count": 17,
   "metadata": {
    "collapsed": true
   },
   "outputs": [],
   "source": [
    "A[0, 1] += 1/24"
   ]
  },
  {
   "cell_type": "markdown",
   "metadata": {},
   "source": [
    "$<\\varphi_1, \\varphi_3> \\int_D \\frac{1}{\\sigma_t}\\Omega \\cdot \\nabla \\varphi_1 \\Omega \\cdot \\nabla \\varphi_3 $ "
   ]
  },
  {
   "cell_type": "code",
   "execution_count": 18,
   "metadata": {
    "collapsed": true
   },
   "outputs": [],
   "source": [
    "A[1, 3] += inv_sigt*np.dot(omega, grad1)*np.dot(omega, grad3)*area"
   ]
  },
  {
   "cell_type": "markdown",
   "metadata": {},
   "source": [
    "$<\\varphi_1, \\varphi_3>  \\int_D \\sigma_t \\varphi_3 \\varphi_0=1 = \\int_0^1 \\int_0^{-x + 1} xy dx dy = \\frac{1}{24} $"
   ]
  },
  {
   "cell_type": "code",
   "execution_count": 19,
   "metadata": {
    "collapsed": true
   },
   "outputs": [],
   "source": [
    "A[1, 3] += 1/24"
   ]
  },
  {
   "cell_type": "markdown",
   "metadata": {},
   "source": [
    "$<\\varphi_1, \\varphi_0> \\int_D \\frac{1}{\\sigma_t}\\Omega \\cdot \\nabla \\varphi_1 \\Omega \\cdot \\nabla \\varphi_0 $ "
   ]
  },
  {
   "cell_type": "code",
   "execution_count": 20,
   "metadata": {
    "collapsed": true
   },
   "outputs": [],
   "source": [
    "A[1, 0] += inv_sigt*np.dot(omega, grad1)*np.dot(omega, grad0)*area"
   ]
  },
  {
   "cell_type": "markdown",
   "metadata": {},
   "source": [
    "$<\\varphi_1, \\varphi_0>  \\int_D \\sigma_t \\varphi_0 \\varphi_1 = \\int_0^1 \\int_0^{-x + 1} x - x^2 - xy dy dx = \\frac{1}{24} $"
   ]
  },
  {
   "cell_type": "code",
   "execution_count": 21,
   "metadata": {
    "collapsed": true
   },
   "outputs": [],
   "source": [
    "A[1, 0] += 1/24"
   ]
  },
  {
   "cell_type": "markdown",
   "metadata": {},
   "source": [
    "$<\\varphi_1, \\varphi_1> \\int_D \\frac{1}{\\sigma_t}\\Omega \\cdot \\nabla \\varphi_1 \\Omega \\cdot \\nabla \\varphi_1 $ "
   ]
  },
  {
   "cell_type": "code",
   "execution_count": 22,
   "metadata": {
    "collapsed": true
   },
   "outputs": [],
   "source": [
    "A[1, 1] += inv_sigt*np.dot(omega, grad1)*np.dot(omega, grad1)*area"
   ]
  },
  {
   "cell_type": "markdown",
   "metadata": {},
   "source": [
    "$<\\varphi_1, \\varphi_1>  \\int_D \\sigma_t \\varphi_1 \\varphi_1 = \\int_0^1 \\int_0^{-x + 1} x^2 dy dx = \\frac{1}{12} $"
   ]
  },
  {
   "cell_type": "code",
   "execution_count": 23,
   "metadata": {
    "collapsed": true
   },
   "outputs": [],
   "source": [
    "A[1, 1] += 1/12"
   ]
  },
  {
   "cell_type": "markdown",
   "metadata": {},
   "source": [
    "    Loop through basis function pairs on boundary:\n",
    "        All are on the boundary, now figure out which boundary.\n",
    "$<\\varphi_3, \\varphi_3>$ is on the x-min boundary. $\\hat{n} = [-1, 0]$ $\\hat{n} \\cdot \\Omega =  -.5773503$ which is less than 0, so we ignore.\n",
    "\n",
    "$<\\varphi_3, \\varphi_0>$ is on the x-min boundary. $\\hat{n} = [-1, 0]$ $\\hat{n} \\cdot \\Omega =  -.5773503$ which is less than 0, so we ignore.\n",
    "\n",
    "$<\\varphi_3, \\varphi_1>$ is not on the boundary, so we ignore.\n",
    "\n",
    "$<\\varphi_0, \\varphi_3>$ is on the x-min boundary.  $\\hat{n} = [-1, 0]$ $\\hat{n} \\cdot \\Omega =  -.5773503$ which is less than 0, so we ignore.\n",
    "\n",
    "$<\\varphi_0, \\varphi_0>$ is on the x-min boundary. $\\hat{n} = [-1, 0]$ $\\hat{n} \\cdot \\Omega =  -.5773503$ which is less than 0, so we ignore.\n",
    "\n",
    "$<\\varphi_0, \\varphi_1>$ is on the y-min boundary. $\\hat{n} = [0, -1]$ $\\hat{n} \\cdot \\Omega =  -.5773503$ which is less than 0, so we ignore.\n",
    "\n",
    "\n",
    "$<\\varphi_1, \\varphi_3>$ is not on the boundary, so we ignore.\n",
    "\n",
    "$<\\varphi_1, \\varphi_0>$ is on the y-min boundary. $\\hat{n} = [0, -1]$ $\\hat{n} \\cdot \\Omega =  -.5773503$ which is less than 0, so we ignore.\n",
    "\n",
    "$<\\varphi_1, \\varphi_1>$ is on the y-min boundary. $\\hat{n} = [-1, 0]$ $\\hat{n} \\cdot \\Omega =  -.5773503$ which is less than 0, so we ignore.\n",
    "\n",
    "Those are all of the basis combinations for the first element, and A remains unchanged."
   ]
  },
  {
   "cell_type": "markdown",
   "metadata": {},
   "source": [
    "    for element 1 calculate basis functions:"
   ]
  },
  {
   "cell_type": "code",
   "execution_count": 24,
   "metadata": {},
   "outputs": [
    {
     "data": {
      "text/plain": [
       "array([[ 1., -1.,  1.],\n",
       "       [ 0.,  1., -1.],\n",
       "       [-1.,  1.,  0.]])"
      ]
     },
     "execution_count": 24,
     "metadata": {},
     "output_type": "execute_result"
    }
   ],
   "source": [
    "V = np.array([[1, 1, 0], [1, 1, 1], [1, 0, 1]])\n",
    "C = np.linalg.inv(V)\n",
    "C"
   ]
  },
  {
   "cell_type": "markdown",
   "metadata": {},
   "source": [
    "Basis functions (using global node numbers as indicies)\n",
    "$\\varphi_1 = 1 + 0x - 1y  = 1 - y\\\\\n",
    "\\varphi_2 = -1 + 1x + 1y = x + y - 1 \\\\\n",
    "\\varphi_3 = 1 - x +0y = 1 - x$"
   ]
  },
  {
   "cell_type": "markdown",
   "metadata": {},
   "source": [
    "Loop through basis function pairs:\n",
    "\n",
    "$<\\varphi_1, \\varphi_1> \\int_D \\frac{1}{\\sigma_t}\\Omega \\cdot \\nabla \\varphi_1 \\Omega \\cdot \\nabla \\varphi_1 $ "
   ]
  },
  {
   "cell_type": "code",
   "execution_count": 25,
   "metadata": {
    "collapsed": true
   },
   "outputs": [],
   "source": [
    "grad1 = np.array([0, -1])\n",
    "A[1, 1] += inv_sigt*np.dot(omega, grad1)*np.dot(omega, grad1)*area"
   ]
  },
  {
   "cell_type": "markdown",
   "metadata": {},
   "source": [
    "$<\\varphi_1, \\varphi_1>  \\int_D \\sigma_t \\varphi_1 \\varphi_1 = \\int_0^1 \\int_{-x + 1}^1 1 -2y +y^2 dy dx = \\frac{1}{12} $"
   ]
  },
  {
   "cell_type": "code",
   "execution_count": 26,
   "metadata": {
    "collapsed": true
   },
   "outputs": [],
   "source": [
    "A[1, 1] += 1/12"
   ]
  },
  {
   "cell_type": "markdown",
   "metadata": {},
   "source": [
    "$<\\varphi_1, \\varphi_2> \\int_D \\frac{1}{\\sigma_t}\\Omega \\cdot \\nabla \\varphi_1 \\Omega \\cdot \\nabla \\varphi_2 $ "
   ]
  },
  {
   "cell_type": "code",
   "execution_count": 27,
   "metadata": {},
   "outputs": [],
   "source": [
    "grad2 = np.array([1, 1])\n",
    "A[1, 2] += inv_sigt*np.dot(omega, grad2)*np.dot(omega, grad1)*area"
   ]
  },
  {
   "cell_type": "markdown",
   "metadata": {},
   "source": [
    "$<\\varphi_1, \\varphi_2>  \\int_D \\sigma_t \\varphi_1 \\varphi_2 = \\int_0^1 \\int_{-x + 1}^1 (x + y - 1-xy - y^2 + y)  dy dx = \\frac{1}{24}$"
   ]
  },
  {
   "cell_type": "code",
   "execution_count": 28,
   "metadata": {},
   "outputs": [],
   "source": [
    "A[1, 2] += 1/24"
   ]
  },
  {
   "cell_type": "markdown",
   "metadata": {},
   "source": [
    "$<\\varphi_1, \\varphi_3> \\int_D \\frac{1}{\\sigma_t}\\Omega \\cdot \\nabla \\varphi_1 \\Omega \\cdot \\nabla \\varphi_3 $ "
   ]
  },
  {
   "cell_type": "code",
   "execution_count": 29,
   "metadata": {
    "collapsed": true
   },
   "outputs": [],
   "source": [
    "grad3 = np.array([-1, 0])\n",
    "A[1, 3] += inv_sigt*np.dot(omega, grad3)*np.dot(omega, grad1)*area"
   ]
  },
  {
   "cell_type": "markdown",
   "metadata": {},
   "source": [
    "$<\\varphi_1, \\varphi_3>  \\int_D \\sigma_t \\varphi_1 \\varphi_3 = \\int_0^1 \\int_{-x + 1}^1 (1 - x)(1-y)  dy dx =  \\frac{1}{24}$"
   ]
  },
  {
   "cell_type": "code",
   "execution_count": 30,
   "metadata": {
    "collapsed": true
   },
   "outputs": [],
   "source": [
    "A[1, 3] += 1/24"
   ]
  },
  {
   "cell_type": "markdown",
   "metadata": {},
   "source": [
    "$<\\varphi_2, \\varphi_1> \\int_D \\frac{1}{\\sigma_t}\\Omega \\cdot \\nabla \\varphi_2 \\Omega \\cdot \\nabla \\varphi_1 $ "
   ]
  },
  {
   "cell_type": "code",
   "execution_count": 31,
   "metadata": {
    "collapsed": true
   },
   "outputs": [],
   "source": [
    "A[2, 1] += inv_sigt*np.dot(omega, grad2)*np.dot(omega, grad1)*area"
   ]
  },
  {
   "cell_type": "markdown",
   "metadata": {},
   "source": [
    "$<\\varphi_2, \\varphi_1>  \\int_D \\sigma_t \\varphi_1 \\varphi_2 = \\int_0^1 \\int_{-x+1}^1 (x + y - 1-xy - y^2 + y)  dy dx = \\frac{1}{24} $"
   ]
  },
  {
   "cell_type": "code",
   "execution_count": 32,
   "metadata": {
    "collapsed": true
   },
   "outputs": [],
   "source": [
    "A[2, 1] += 1/24"
   ]
  },
  {
   "cell_type": "markdown",
   "metadata": {},
   "source": [
    "$<\\varphi_2, \\varphi_2> \\int_D \\frac{1}{\\sigma_t}\\Omega \\cdot \\nabla \\varphi_2 \\Omega \\cdot \\nabla \\varphi_2 $ "
   ]
  },
  {
   "cell_type": "code",
   "execution_count": 33,
   "metadata": {
    "collapsed": true
   },
   "outputs": [],
   "source": [
    "A[2, 2] += inv_sigt*np.dot(omega, grad2)*np.dot(omega, grad2)*area"
   ]
  },
  {
   "cell_type": "markdown",
   "metadata": {},
   "source": [
    "$<\\varphi_2, \\varphi_2>  \\int_D \\sigma_t \\varphi_2 \\varphi_2 = \\int_0^1 \\int_{-x+1}^1 (x + y - 1)^2  dy dx = \\frac{1}{12}$"
   ]
  },
  {
   "cell_type": "code",
   "execution_count": 34,
   "metadata": {
    "collapsed": true
   },
   "outputs": [],
   "source": [
    "A[2, 2] += 1/12"
   ]
  },
  {
   "cell_type": "markdown",
   "metadata": {},
   "source": [
    "$<\\varphi_2, \\varphi_3> \\int_D \\frac{1}{\\sigma_t}\\Omega \\cdot \\nabla \\varphi_2 \\Omega \\cdot \\nabla \\varphi_3 $ "
   ]
  },
  {
   "cell_type": "code",
   "execution_count": 35,
   "metadata": {
    "collapsed": true
   },
   "outputs": [],
   "source": [
    "A[2, 3] += inv_sigt*np.dot(omega, grad2)*np.dot(omega, grad3)*area"
   ]
  },
  {
   "cell_type": "markdown",
   "metadata": {},
   "source": [
    "$<\\varphi_2, \\varphi_3>  \\int_D \\sigma_t \\varphi_2 \\varphi_3 = \\int_0^1 \\int_{-x+1}^1 (x + y - 1 - x^2 -xy + x)  dy dx = \\frac{1}{24} $"
   ]
  },
  {
   "cell_type": "code",
   "execution_count": 36,
   "metadata": {
    "collapsed": true
   },
   "outputs": [],
   "source": [
    "A[2, 3] += 1/24"
   ]
  },
  {
   "cell_type": "markdown",
   "metadata": {},
   "source": [
    "$<\\varphi_3, \\varphi_1> \\int_D \\frac{1}{\\sigma_t}\\Omega \\cdot \\nabla \\varphi_3 \\Omega \\cdot \\nabla \\varphi_1 $ "
   ]
  },
  {
   "cell_type": "code",
   "execution_count": 37,
   "metadata": {
    "collapsed": true
   },
   "outputs": [],
   "source": [
    "A[3, 1] += inv_sigt*np.dot(omega, grad1)*np.dot(omega, grad3)*area"
   ]
  },
  {
   "cell_type": "markdown",
   "metadata": {},
   "source": [
    "$<\\varphi_3, \\varphi_1>  \\int_D \\sigma_t \\varphi_1 \\varphi_3 = \\int_0^1 \\int_{-x+1}^1 (1 - x)(1-y)   dy dx = \\frac{1}{24} $"
   ]
  },
  {
   "cell_type": "code",
   "execution_count": 38,
   "metadata": {
    "collapsed": true
   },
   "outputs": [],
   "source": [
    "A[3, 1] += 1/24"
   ]
  },
  {
   "cell_type": "markdown",
   "metadata": {},
   "source": [
    "$<\\varphi_3, \\varphi_2> \\int_D \\frac{1}{\\sigma_t}\\Omega \\cdot \\nabla \\varphi_3 \\Omega \\cdot \\nabla \\varphi_2 $ "
   ]
  },
  {
   "cell_type": "code",
   "execution_count": 39,
   "metadata": {
    "collapsed": true
   },
   "outputs": [],
   "source": [
    "A[3, 2] += inv_sigt*np.dot(omega, grad3)*np.dot(omega, grad2)*area"
   ]
  },
  {
   "cell_type": "markdown",
   "metadata": {},
   "source": [
    "$<\\varphi_3, \\varphi_2>  \\int_D \\sigma_t \\varphi_2 \\varphi_3 = \\int_0^1 \\int_{-x+1}^1 (x + y - 1 - x^2 -xy + x)  dy dx = \\frac{1}{24} $"
   ]
  },
  {
   "cell_type": "code",
   "execution_count": 40,
   "metadata": {
    "collapsed": true
   },
   "outputs": [],
   "source": [
    "A[3, 2] += 1/24 "
   ]
  },
  {
   "cell_type": "markdown",
   "metadata": {},
   "source": [
    "$<\\varphi_3, \\varphi_3> \\int_D \\frac{1}{\\sigma_t}\\Omega \\cdot \\nabla \\varphi_3 \\Omega \\cdot \\nabla \\varphi_3 $ "
   ]
  },
  {
   "cell_type": "code",
   "execution_count": 41,
   "metadata": {
    "collapsed": true
   },
   "outputs": [],
   "source": [
    "A[3, 3] += inv_sigt*np.dot(omega, grad3)*np.dot(omega, grad3)*area"
   ]
  },
  {
   "cell_type": "markdown",
   "metadata": {},
   "source": [
    "$<\\varphi_3, \\varphi_3>  \\int_D \\sigma_t \\varphi_3 \\varphi_3 = \\int_0^1 \\int_{-x+1}^1 (1 - 2x + x^2)  dy dx =  \\frac{1}{12}$"
   ]
  },
  {
   "cell_type": "code",
   "execution_count": 42,
   "metadata": {
    "collapsed": true
   },
   "outputs": [],
   "source": [
    "A[3, 3] += 1/12"
   ]
  },
  {
   "cell_type": "code",
   "execution_count": 43,
   "metadata": {},
   "outputs": [
    {
     "data": {
      "text/plain": [
       "array([[ 0.08333333,  0.04166667,  0.        ,  0.04166667],\n",
       "       [ 0.04166667,  0.50000004,  0.04166667, -0.25000004],\n",
       "       [ 0.        ,  0.04166667,  0.08333333,  0.04166667],\n",
       "       [ 0.04166667, -0.25000004,  0.04166667,  0.50000004]])"
      ]
     },
     "execution_count": 43,
     "metadata": {},
     "output_type": "execute_result"
    }
   ],
   "source": [
    "A"
   ]
  },
  {
   "cell_type": "markdown",
   "metadata": {},
   "source": [
    "    Loop through basis function pairs:\n",
    "        All are on the boundary, now figure out which boundary.\n",
    "$<\\varphi_1, \\varphi_1>$ is on the x-max boundary. $\\hat{n} = [1, 0]$ $\\hat{n} \\cdot \\Omega = .5773503$ which is $>0$, so $A[1, 1] += \\int_0^1 \\hat{n}\\cdot \\Omega \\varphi_1 \\varphi_1 = \\hat{n} \\cdot \\Omega \\int_0^1 (1-y)^2 = \\int_0^1 1 -2y +y^2 = \\hat{n} \\cdot \\Omega [y - y^2 + \\frac{1}{3}y^3]_0^1 = .5773503*\\frac{1}{3}$\n",
    "\n"
   ]
  },
  {
   "cell_type": "code",
   "execution_count": null,
   "metadata": {
    "collapsed": true
   },
   "outputs": [],
   "source": [
    "A[1, 1] += omega[0]*(1/3)"
   ]
  },
  {
   "cell_type": "markdown",
   "metadata": {},
   "source": [
    "$<\\varphi_1, \\varphi_2>$ is on the x-max boundary. $\\hat{n} = [1, 0]$ $\\hat{n} \\cdot \\Omega = .5773503$ which is $>0$, so $A[1, 2] += \\int_0^1 \\hat{n}\\cdot \\Omega \\varphi_1 \\varphi_2 = \\hat{n} \\cdot \\Omega \\int_0^1 (1-y)(x + y -1) = .5773503(-\\frac{1}{3} + \\frac{1}{2})$"
   ]
  },
  {
   "cell_type": "code",
   "execution_count": null,
   "metadata": {
    "collapsed": true
   },
   "outputs": [],
   "source": [
    "A[1, 2] += omega[0]*(1/2 - 1/3)"
   ]
  },
  {
   "cell_type": "markdown",
   "metadata": {},
   "source": [
    "$<\\varphi_1, \\varphi_3>$ is not on the boundary, so we ignore\n",
    "\n",
    "$<\\varphi_2, \\varphi_1>$ is on the x-max boundary. $\\hat{n} = [1, 0]$ $\\hat{n} \\cdot \\Omega = .5773503$ which is $>0$, so $A[2, 1] += \\int_0^1 \\hat{n}\\cdot \\Omega \\varphi_1 \\varphi_2 = \\hat{n} \\cdot \\Omega \\int_0^1 (1-y)(x + y -1) = .5773503(-\\frac{1}{3} + \\frac{1}{2})$"
   ]
  },
  {
   "cell_type": "code",
   "execution_count": null,
   "metadata": {
    "collapsed": true
   },
   "outputs": [],
   "source": [
    "A[2, 1] += omega[0]*(1/2 - 1/3)"
   ]
  },
  {
   "cell_type": "markdown",
   "metadata": {},
   "source": [
    "$<\\varphi_2, \\varphi_2>$ is on both boundaries we do each one at a time.\n",
    "For the ymax boundary, $\\hat{n} = [0, 1]$ $\\hat{n} \\cdot \\Omega = .5773503 > 0$ so $A[2, 2] += \\int_0^1 \\hat{n}\\cdot \\Omega \\varphi_2 \\varphi_2 = \\hat{n} \\cdot \\Omega \\int_0^1(x+y-1)(x+y-1) = \\hat{n} \\cdot \\Omega \\int_0^1(x+1-1)(x+1-1) = \\hat{n} \\cdot \\Omega \\int_0^1x^2 = \\hat{n} \\cdot \\Omega [\\frac{1}{3}x^3]_0^1 = .5773503(\\frac{1}{3})  $\n"
   ]
  },
  {
   "cell_type": "code",
   "execution_count": null,
   "metadata": {
    "collapsed": true
   },
   "outputs": [],
   "source": [
    "A[2, 2] += omega[1]*(1/3)"
   ]
  },
  {
   "cell_type": "markdown",
   "metadata": {},
   "source": [
    "For the xmax boundary,$ \\hat{n} = [1, 0]$ $\\hat{n} \\cdot \\Omega = .5773503$ which is $>0$, so $A[2, 2] += \\int_0^1 \\hat{n}\\cdot \\Omega \\varphi_2 \\varphi_2 = .5773503(\\frac{1}{3})$"
   ]
  },
  {
   "cell_type": "code",
   "execution_count": null,
   "metadata": {
    "collapsed": true
   },
   "outputs": [],
   "source": [
    "A[2, 2] += omega[0]*(1/3)"
   ]
  },
  {
   "cell_type": "markdown",
   "metadata": {},
   "source": [
    "$<\\varphi_2, \\varphi_3>$ is on the y-max boundary. $\\hat{n} = [0, 1]$ $\\hat{n} \\cdot \\Omega = .5773503 > 0$, so $A[2, 3] += \\int_0^1 \\hat{n}\\cdot \\Omega \\varphi_2 \\varphi_3 = \\hat{n} \\cdot \\Omega \\int_0^1(x+y-1)(1-x) = \\hat{n} \\cdot \\Omega [\\frac{1}{2} - \\frac{1}{3}] $"
   ]
  },
  {
   "cell_type": "code",
   "execution_count": null,
   "metadata": {
    "collapsed": true
   },
   "outputs": [],
   "source": [
    "A[2, 3] += omega[1]*(1/2 - 1/3)"
   ]
  },
  {
   "cell_type": "markdown",
   "metadata": {},
   "source": [
    "$<\\varphi_3, \\varphi_1>$ is not on the boundary, so we ignore\n",
    "\n",
    "$<\\varphi_3, \\varphi_2>$ is on the y-max boundary. $\\hat{n} = [0, 1]$ $\\hat{n} \\cdot \\Omega = .5773503 > 0$, so $A[3, 2] += \\int_0^1 \\hat{n}\\cdot \\Omega \\varphi_2 \\varphi_3 = \\hat{n} \\cdot \\Omega \\int_0^1(x+y-1)(1-x) = \\hat{n} \\cdot \\Omega [\\frac{1}{2} - \\frac{1}{3}] $"
   ]
  },
  {
   "cell_type": "code",
   "execution_count": null,
   "metadata": {
    "collapsed": true
   },
   "outputs": [],
   "source": [
    "A[3, 2] += omega[1]*(1/2 - 1/3)"
   ]
  },
  {
   "cell_type": "markdown",
   "metadata": {},
   "source": [
    "$<\\varphi_3, \\varphi_3>$ is on the y-max boundary. $\\hat{n} = [0, 1]$ $\\hat{n} \\cdot \\Omega = .5773503 > 0$, so $A[3, 3] += \\int_0^1 \\hat{n}\\cdot \\Omega \\varphi_3 \\varphi_3 = \\hat{n} \\cdot \\Omega \\int_0^1(1-x)(1-x) =\\hat{n} \\cdot \\Omega \\int_0^1 1 - 2x + x^2 = \\hat{n} \\cdot \\Omega [x - x^2 + \\frac{1}{3}x^3]_0^1 = .5773503(\\frac{1}{3}) $"
   ]
  },
  {
   "cell_type": "code",
   "execution_count": null,
   "metadata": {
    "collapsed": true
   },
   "outputs": [],
   "source": [
    "A[3, 3] += omega[0]*(1/3)"
   ]
  },
  {
   "cell_type": "markdown",
   "metadata": {},
   "source": [
    "Those are all the elements, so the final A is"
   ]
  },
  {
   "cell_type": "code",
   "execution_count": null,
   "metadata": {},
   "outputs": [],
   "source": [
    "print(A)"
   ]
  },
  {
   "cell_type": "markdown",
   "metadata": {
    "collapsed": true
   },
   "source": [
    "Which checks out with the code's LHS matrix for this problem (input name std.1)"
   ]
  },
  {
   "cell_type": "code",
   "execution_count": 44,
   "metadata": {
    "collapsed": true
   },
   "outputs": [],
   "source": [
    "def cell_contribution(A, omega, inv_sigt):\n",
    "    #Element 0\n",
    "    \n",
    "    grad3 = np.array([0, 1])\n",
    "    grad0 = np.array([-1, -1])\n",
    "    grad1 = np.array([1, 0])\n",
    "    area = .5\n",
    "    A[3, 3] += inv_sigt*np.dot(omega, grad3)*np.dot(omega, grad3)*area\n",
    "    A[3, 3] += 1/12\n",
    "    A[3, 0] += inv_sigt*np.dot(omega, grad3)*np.dot(omega, grad0)*area\n",
    "    A[3, 0] += 1/24\n",
    "    A[3, 1] += inv_sigt*np.dot(omega, grad3)*np.dot(omega, grad1)*area\n",
    "    A[3, 1] += 1/24\n",
    "    A[0, 3] += inv_sigt*np.dot(omega, grad3)*np.dot(omega, grad0)*area\n",
    "    A[0, 3] += 1/24\n",
    "    A[0, 0] += inv_sigt*np.dot(omega, grad0)*np.dot(omega, grad0)*area\n",
    "    A[0, 0] += 1/12\n",
    "    A[0, 1] += inv_sigt*np.dot(omega, grad0)*np.dot(omega, grad1)*area\n",
    "    A[0, 1] += 1/24\n",
    "    A[1, 3] += inv_sigt*np.dot(omega, grad1)*np.dot(omega, grad3)*area\n",
    "    A[1, 3] += 1/24\n",
    "    A[1, 0] += inv_sigt*np.dot(omega, grad1)*np.dot(omega, grad0)*area\n",
    "    A[1, 0] += 1/24\n",
    "    A[1, 1] += inv_sigt*np.dot(omega, grad1)*np.dot(omega, grad1)*area\n",
    "    A[1, 1] += 1/12\n",
    "\n",
    "    #Element 1\n",
    "    grad1 = np.array([0, -1])\n",
    "    grad2 = np.array([1, 1])\n",
    "    grad3 = np.array([-1, 0])\n",
    "    A[1, 1] += inv_sigt*np.dot(omega, grad1)*np.dot(omega, grad1)*area\n",
    "    A[1, 1] += 1/12\n",
    "    A[1, 2] += inv_sigt*np.dot(omega, grad2)*np.dot(omega, grad1)*area\n",
    "    A[1, 2] += 1/24\n",
    "    A[1, 3] += inv_sigt*np.dot(omega, grad3)*np.dot(omega, grad1)*area\n",
    "    A[1, 3] += 1/24\n",
    "    A[2, 1] += inv_sigt*np.dot(omega, grad2)*np.dot(omega, grad1)*area\n",
    "    A[2, 1] += 1/24\n",
    "    A[2, 2] += inv_sigt*np.dot(omega, grad2)*np.dot(omega, grad2)*area\n",
    "    A[2, 2] += 1/12\n",
    "    A[2, 3] += inv_sigt*np.dot(omega, grad2)*np.dot(omega, grad3)*area\n",
    "    A[2, 3] += 1/24\n",
    "    A[3, 1] += inv_sigt*np.dot(omega, grad1)*np.dot(omega, grad3)*area\n",
    "    A[3, 1] += 1/24\n",
    "    A[3, 2] += inv_sigt*np.dot(omega, grad3)*np.dot(omega, grad2)*area\n",
    "    A[3, 2] += 1/24 \n",
    "    A[3, 3] += inv_sigt*np.dot(omega, grad3)*np.dot(omega, grad3)*area\n",
    "    A[3, 3] += 1/12\n",
    "    return A"
   ]
  },
  {
   "cell_type": "code",
   "execution_count": 48,
   "metadata": {
    "collapsed": true
   },
   "outputs": [],
   "source": [
    "def boundary_top(A, omega):\n",
    "    A[3, 3] += np.abs(omega[1])*(1/3)\n",
    "    A[3, 2] += np.abs(omega[1])*(1/6)\n",
    "    A[2, 3] += np.abs(omega[1])*(1/6)\n",
    "    A[2, 2] += np.abs(omega[1])*(1/3)\n",
    "    return A"
   ]
  },
  {
   "cell_type": "code",
   "execution_count": 49,
   "metadata": {
    "collapsed": true
   },
   "outputs": [],
   "source": [
    "def boundary_right(A, omega):\n",
    "    A[2, 2] += np.abs(omega[0])*(1/3)\n",
    "    A[2, 1] += np.abs(omega[0])*(1/6)\n",
    "    A[1, 2] += np.abs(omega[0])*(1/6)\n",
    "    A[1, 1] += np.abs(omega[0])*(1/3)\n",
    "    return A"
   ]
  },
  {
   "cell_type": "code",
   "execution_count": 50,
   "metadata": {
    "collapsed": true
   },
   "outputs": [],
   "source": [
    "def boundary_left(A, omega):\n",
    "    A[0, 0] += np.abs(omega[0])*(1/3)\n",
    "    A[3, 0] += np.abs(omega[0])*(1/6)\n",
    "    A[0, 3] += np.abs(omega[0])*(1/6)\n",
    "    A[3, 3] += np.abs(omega[0])*(1/3)\n",
    "    return A"
   ]
  },
  {
   "cell_type": "code",
   "execution_count": 51,
   "metadata": {
    "collapsed": true
   },
   "outputs": [],
   "source": [
    "def boundary_bottom(A, omega):\n",
    "    A[0, 0] += np.abs(omega[1])*(1/3)\n",
    "    A[1, 0] += np.abs(omega[1])*(1/6)\n",
    "    A[0, 1] += np.abs(omega[1])*(1/6)\n",
    "    A[1, 1] += np.abs(omega[1])*(1/3)\n",
    "    return A"
   ]
  },
  {
   "cell_type": "code",
   "execution_count": 52,
   "metadata": {},
   "outputs": [
    {
     "data": {
      "text/plain": [
       "array([[ 0.75000007, -0.2916667 ,  0.        , -0.2916667 ],\n",
       "       [-0.2916667 ,  0.69245014, -0.19544165,  0.4166667 ],\n",
       "       [ 0.        , -0.19544165,  1.13490027, -0.19544165],\n",
       "       [-0.2916667 ,  0.4166667 , -0.19544165,  0.69245014]])"
      ]
     },
     "execution_count": 52,
     "metadata": {},
     "output_type": "execute_result"
    }
   ],
   "source": [
    "omega = np.array([.5773503,.5773503])\n",
    "sigt = 1\n",
    "inv_sigt = 1\n",
    "A = np.zeros((4, 4))\n",
    "A = cell_contribution(A, omega, inv_sigt)\n",
    "A = boundary_right(A, omega)\n",
    "A = boundary_top(A, omega)\n",
    "A"
   ]
  },
  {
   "cell_type": "code",
   "execution_count": 59,
   "metadata": {},
   "outputs": [
    {
     "data": {
      "text/plain": [
       "array([[ 0.1924501 ,  0.        ,  0.        ,  0.09622505],\n",
       "       [ 0.        ,  0.        ,  0.        ,  0.        ],\n",
       "       [ 0.        ,  0.        ,  0.1924501 ,  0.09622505],\n",
       "       [ 0.09622505,  0.        ,  0.09622505,  0.3849002 ]])"
      ]
     },
     "execution_count": 59,
     "metadata": {},
     "output_type": "execute_result"
    }
   ],
   "source": [
    "omega = np.array([-.5773503,.5773503])\n",
    "sigt = 1\n",
    "inv_sigt = 1\n",
    "B = np.zeros((4, 4))\n",
    "#B = cell_contribution(B, omega, inv_sigt)\n",
    "B = boundary_left(B, omega)\n",
    "B = boundary_top(B, omega)\n",
    "B"
   ]
  },
  {
   "cell_type": "code",
   "execution_count": 57,
   "metadata": {},
   "outputs": [
    {
     "data": {
      "text/plain": [
       "array([[ 0.27578343,  0.13789172,  0.        ,  0.04166667],\n",
       "       [ 0.13789172,  0.88490024,  0.13789172, -0.25000004],\n",
       "       [ 0.        ,  0.13789172,  0.27578343,  0.04166667],\n",
       "       [ 0.04166667, -0.25000004,  0.04166667,  0.50000004]])"
      ]
     },
     "execution_count": 57,
     "metadata": {},
     "output_type": "execute_result"
    }
   ],
   "source": [
    "omega = np.array([.5773503,-.5773503])\n",
    "sigt = 1\n",
    "inv_sigt = 1\n",
    "C = np.zeros((4, 4))\n",
    "C = cell_contribution(C, omega, inv_sigt)\n",
    "C = boundary_right(C, omega)\n",
    "C = boundary_bottom(C, omega)\n",
    "C"
   ]
  },
  {
   "cell_type": "code",
   "execution_count": 55,
   "metadata": {},
   "outputs": [
    {
     "data": {
      "text/plain": [
       "array([[ 1.13490027, -0.19544165,  0.        , -0.19544165],\n",
       "       [-0.19544165,  0.69245014, -0.2916667 ,  0.4166667 ],\n",
       "       [ 0.        , -0.2916667 ,  0.75000007, -0.2916667 ],\n",
       "       [-0.19544165,  0.4166667 , -0.2916667 ,  0.69245014]])"
      ]
     },
     "execution_count": 55,
     "metadata": {},
     "output_type": "execute_result"
    }
   ],
   "source": [
    "omega = np.array([-.5773503,-.5773503])\n",
    "sigt = 1\n",
    "inv_sigt = 1\n",
    "A = np.zeros((4, 4))\n",
    "A = cell_contribution(A, omega, inv_sigt)\n",
    "A = boundary_left(A, omega)\n",
    "A = boundary_bottom(A, omega)\n",
    "A"
   ]
  },
  {
   "cell_type": "markdown",
   "metadata": {},
   "source": [
    "## STANDARD GRID RHS"
   ]
  },
  {
   "cell_type": "markdown",
   "metadata": {},
   "source": [
    "We give the RHS as follows:\n",
    "\n",
    "$\\int_D \\frac{q}{4 \\pi}\\varphi_i dy dx + \\int_D \\frac{q}{4 \\pi \\sigma_t} \\Omega \\cdot \\nabla \\varphi_i dy dx$\n",
    "\n",
    "with $q=\\sigma_t=1$\n",
    "Loop over elements. Recall for element 0 we have the following basis functions:\n",
    "\n",
    "$\\varphi_3  = y\\\\\n",
    "\\varphi_0 =  1 - (x+y) \\\\\n",
    "\\varphi_1  = x$\n",
    "\n",
    "$<\\varphi_3>: \\int_0^1 \\int_0^{-x + 1} \\frac{y}{4\\pi} dy dx = \\frac{1}{24\\pi}$  \n",
    "$<\\varphi_3>: \\int_0^1 \\int_0^{-x + 1} \\frac{q}{4 \\pi \\sigma_t} \\Omega \\cdot \\nabla \\varphi_3 dy dx = area\\frac{1}{4\\pi} \\Omega \\cdot \\nabla \\varphi_3$  \n",
    "$<\\varphi_0>: \\int_0^1 \\int_0^{-x + 1} \\frac{(1 - x -y}{4\\pi} dy\n",
    "dx\\frac{1}{24\\pi}$  \n",
    "$<\\varphi_0>: \\int_0^1 \\int_0^{-x + 1} \\frac{q}{4 \\pi \\sigma_t} \\Omega \\cdot \\nabla \\varphi_0 dy dx = area\\frac{1}{4\\pi} \\Omega \\cdot \\nabla \\varphi_0$  \n",
    "$<\\varphi_1>: \\int_0^1 \\int_0^{-x + 1} \\frac{(x}{4\\pi} dy dx\\frac{1}{24\\pi}$  \n",
    "$<\\varphi_1>: \\int_0^1 \\int_0^{-x + 1} \\frac{q}{4 \\pi \\sigma_t} \\Omega \\cdot \\nabla \\varphi_1 dy dx = area\\frac{1}{4\\pi} \\Omega \\cdot \\nabla \\varphi_1$  \n",
    "\n",
    "Recall the basis functions for element 1 are:\n",
    "\n",
    "$\\varphi_1 = 1 - y\\\\\n",
    "\\varphi_2 =  x + y - 1 \\\\\n",
    "\\varphi_3 = 1 - x$"
   ]
  },
  {
   "cell_type": "code",
   "execution_count": 63,
   "metadata": {
    "collapsed": true
   },
   "outputs": [],
   "source": [
    "def rhs(b, omega, sigt, q):\n",
    "    # 4 nodes, 4 entries\n",
    "    b = np.zeros(4)\n",
    "    \n",
    "    area = .5\n",
    "    # Element 0\n",
    "    grad3 = np.array([0, 1])\n",
    "    grad0 = np.array([-1, -1])\n",
    "    grad1 = np.array([1, 0])\n",
    "    b[3] += 1/(24*np.pi)\n",
    "    b[3] += area/(4*np.pi)*np.dot(omega, grad3)\n",
    "    b[0] += 1/(24*np.pi)\n",
    "    b[0] += area/(4*np.pi)*np.dot(omega, grad0)\n",
    "    b[1] += 1/(24*np.pi)\n",
    "    b[1] += area/(4*np.pi)*np.dot(omega, grad1)\n",
    "    # Element 1\n",
    "    grad1 = np.array([0, -1])\n",
    "    grad2 = np.array([1, 1])\n",
    "    grad3 = np.array([-1, 0])\n",
    "    b[1] += 1/(24*np.pi)\n",
    "    b[1] += area/(4*np.pi)*np.dot(omega, grad1)\n",
    "    b[2] += 1/(24*np.pi)\n",
    "    b[2] += area/(4*np.pi)*np.dot(omega, grad2)\n",
    "    b[3] += 1/(24*np.pi)\n",
    "    b[3] += area/(4*np.pi)*np.dot(omega, grad3)\n",
    "    \n",
    "    return b\n",
    "    "
   ]
  },
  {
   "cell_type": "code",
   "execution_count": 64,
   "metadata": {},
   "outputs": [
    {
     "data": {
      "text/plain": [
       "array([-0.03268117,  0.02652582,  0.05920699,  0.02652582])"
      ]
     },
     "execution_count": 64,
     "metadata": {},
     "output_type": "execute_result"
    }
   ],
   "source": [
    "omega = np.array([.5773503,.5773503])\n",
    "sigt = 1\n",
    "q = 1\n",
    "b = np.zeros(4)\n",
    "b = rhs(b, omega, sigt, q)\n",
    "b"
   ]
  },
  {
   "cell_type": "code",
   "execution_count": 65,
   "metadata": {},
   "outputs": [
    {
     "data": {
      "text/plain": [
       "array([ 0.01326291, -0.01941825,  0.01326291,  0.0724699 ])"
      ]
     },
     "execution_count": 65,
     "metadata": {},
     "output_type": "execute_result"
    }
   ],
   "source": [
    "omega = np.array([-.5773503,.5773503])\n",
    "sigt = 1\n",
    "q = 1\n",
    "b = np.zeros(4)\n",
    "b = rhs(b, omega, sigt, q)\n",
    "b"
   ]
  },
  {
   "cell_type": "code",
   "execution_count": 66,
   "metadata": {},
   "outputs": [
    {
     "data": {
      "text/plain": [
       "array([ 0.01326291,  0.0724699 ,  0.01326291, -0.01941825])"
      ]
     },
     "execution_count": 66,
     "metadata": {},
     "output_type": "execute_result"
    }
   ],
   "source": [
    "omega = np.array([.5773503,-.5773503])\n",
    "sigt = 1\n",
    "q = 1\n",
    "b = np.zeros(4)\n",
    "b = rhs(b, omega, sigt, q)\n",
    "b"
   ]
  },
  {
   "cell_type": "code",
   "execution_count": 67,
   "metadata": {},
   "outputs": [
    {
     "data": {
      "text/plain": [
       "array([ 0.05920699,  0.02652582, -0.03268117,  0.02652582])"
      ]
     },
     "execution_count": 67,
     "metadata": {},
     "output_type": "execute_result"
    }
   ],
   "source": [
    "omega = np.array([-.5773503,-.5773503])\n",
    "sigt = 1\n",
    "q = 1\n",
    "b = np.zeros(4)\n",
    "b = rhs(b, omega, sigt, q)\n",
    "b"
   ]
  },
  {
   "cell_type": "markdown",
   "metadata": {
    "collapsed": true
   },
   "source": [
    "## Non-Standard Grid"
   ]
  },
  {
   "cell_type": "code",
   "execution_count": null,
   "metadata": {},
   "outputs": [],
   "source": [
    "x = np.array([0, 1, 1, 0])\n",
    "y = np.array([0, 0, 2, 2])\n",
    "triangles = np.array([[3, 0, 1], [1, 2, 3]])\n",
    "triangulation = tri.Triangulation(x, y, triangles=triangles)\n",
    "plt.triplot(triangulation)\n",
    "plt.scatter(x, y, marker='o')\n",
    "for i in range(4):\n",
    "    plt.annotate(i, (x[i], y[i]))\n",
    "plt.show()"
   ]
  },
  {
   "cell_type": "markdown",
   "metadata": {},
   "source": [
    "Same problem as before, new geometry. \n",
    "$\\Omega = [.5773503, .5773503], \\sigma_t = 1, \\frac{1}{\\sigma_t} = 1$\n",
    "\n",
    "Instantiate A matrix (four nodes $\\rightarrow$ 4x4)"
   ]
  },
  {
   "cell_type": "code",
   "execution_count": null,
   "metadata": {
    "collapsed": true
   },
   "outputs": [],
   "source": [
    "B = np.zeros((4, 4))"
   ]
  },
  {
   "cell_type": "markdown",
   "metadata": {},
   "source": [
    "### Loop over the elements:\n",
    "\n",
    "For all of element 0 $\\hat{n}\\cdot \\Omega < 0$, (see above) so move on to element 1.\n",
    "\n",
    "Calculate Basis Functions."
   ]
  },
  {
   "cell_type": "code",
   "execution_count": null,
   "metadata": {},
   "outputs": [],
   "source": [
    "V = np.array([[1, 1, 0], [1, 1, 2], [1, 0, 2]])\n",
    "C = np.linalg.inv(V)\n",
    "C"
   ]
  },
  {
   "cell_type": "markdown",
   "metadata": {},
   "source": [
    "Basis functions (using global node numbers as indicies)\n",
    "$\\varphi_1 = 1 + 0x - .5y  = 1 - .5y\\\\\n",
    "\\varphi_2 = -1 + 1x + .5y = x + .5y - 1 \\\\\n",
    "\\varphi_3 = 1 - x +0y = 1 - x$"
   ]
  },
  {
   "cell_type": "markdown",
   "metadata": {},
   "source": [
    "$B[1, 1] += \\int_0^2 \\hat{n}\\cdot \\Omega \\varphi_1 \\varphi_1 = \\hat{n} \\cdot \\Omega \\int_0^2 (1-\\frac{1}{2}y)^2 = \\int_0^2 1 -y +\\frac{1}{4}y^2 = \\hat{n} \\cdot \\Omega [y - \\frac{1}{2}y^2 + \\frac{1}{12}y^3]_0^2 = .5773503*[2 - \\frac{4}{2} + \\frac{8}{12}] = .5773503*[2 - 2 + \\frac{2}{3}]$"
   ]
  },
  {
   "cell_type": "code",
   "execution_count": null,
   "metadata": {},
   "outputs": [],
   "source": [
    "B[1, 1] = omega[0]*(2/3)\n",
    "print(B[1, 1])"
   ]
  },
  {
   "cell_type": "markdown",
   "metadata": {},
   "source": [
    "$B[1, 2] += \\int_0^2 \\hat{n}\\cdot \\Omega \\varphi_1 \\varphi_2 = \\hat{n}\\cdot \\Omega \\int_0^2 (1 -\\frac{1}{2}y)(x + \\frac{1}{2}y - 1) $ On the xmax boundary $x=1,  \\hat{n}\\cdot \\Omega \\int_0^2 (1 -\\frac{1}{2}y)(\\frac{1}{2}y) = \\hat{n}\\cdot \\Omega \\int_0^2 \\frac{1}{2}y - \\frac{1}{4}y^2 =\\hat{n}\\cdot \\Omega [\\frac{1}{4}y^2 - \\frac{1}{12}y^3]0^2 = \\hat{n}\\cdot \\Omega[ \\frac{4}{4} - \\frac{8}{12}] = .5773503∗[1 - \\frac{2}{3}]$"
   ]
  },
  {
   "cell_type": "code",
   "execution_count": null,
   "metadata": {
    "collapsed": true
   },
   "outputs": [],
   "source": [
    "B[1, 2] += omega[0]*(1 - (2/3))"
   ]
  },
  {
   "cell_type": "markdown",
   "metadata": {},
   "source": [
    "$<\\varphi_1, \\varphi_3>$ is not on the boundary."
   ]
  },
  {
   "cell_type": "markdown",
   "metadata": {},
   "source": [
    "$<\\varphi_2, \\varphi_1>$ is on the xmax boundary and $x=1$\n",
    "$B[2, 1] += \\int_0^2 \\hat{n}\\cdot \\Omega \\varphi_1 \\varphi_2 = \\hat{n}\\cdot \\Omega \\int_0^2 (1 -\\frac{1}{2}y)(x + \\frac{1}{2}y - 1) $ On the xmax boundary $x=1,  \\hat{n}\\cdot \\Omega \\int_0^2 (1 -\\frac{1}{2}y)(\\frac{1}{2}y) = \\hat{n}\\cdot \\Omega \\int_0^2 \\frac{1}{2}y - \\frac{1}{4}y^2 =\\hat{n}\\cdot \\Omega [\\frac{1}{4}y^2 - \\frac{1}{12}y^3]0^2 = \\hat{n}\\cdot \\Omega[ \\frac{4}{4} - \\frac{8}{12}] = .5773503∗[1 - \\frac{2}{3}]$"
   ]
  },
  {
   "cell_type": "code",
   "execution_count": null,
   "metadata": {
    "collapsed": true
   },
   "outputs": [],
   "source": [
    "B[2, 1] += omega[0]*(1 - (2/3))"
   ]
  },
  {
   "cell_type": "markdown",
   "metadata": {},
   "source": [
    "$<\\varphi_2, \\varphi_2>$ is along both max boundaries so we split up into two calculations. First the xmax boundary where $x=1$:  \n",
    "\n",
    "$B[2, 2] += \\int_0^2 \\hat{n}\\cdot \\Omega \\varphi_2 \\varphi_2 = \\hat{n}\\cdot \\Omega \\int_0^2 (x + \\frac{1}{2}y - 1)^2 = \\hat{n}\\cdot \\Omega \\int_0^2 (\\frac{1}{2}y)^2 = \\hat{n}\\cdot \\Omega \\int_0^2 \\frac{1}{4}y^2 = \\hat{n}\\cdot \\Omega [\\frac{1}{12}y^3]_0^2 = .5773503*\\frac{2}{3}$"
   ]
  },
  {
   "cell_type": "code",
   "execution_count": null,
   "metadata": {
    "collapsed": true
   },
   "outputs": [],
   "source": [
    "B[2, 2] += omega[0]*(2/3)"
   ]
  },
  {
   "cell_type": "markdown",
   "metadata": {},
   "source": [
    "Now incorporate the integral along the ymax boundary where $y=2$\n",
    "\n",
    "$B[2, 2] += \\int_0^1 \\hat{n}\\cdot \\Omega \\varphi_2 \\varphi_2 = \\hat{n}\\cdot \\Omega \\int_0^1 (x + \\frac{1}{2}y - 1)^2 = \\hat{n}\\cdot \\Omega \\int_0^1 (x )^2 = \\hat{n}\\cdot \\Omega \\frac{1}{3}x^3 =.5773503*\\frac{1}{3}$ "
   ]
  },
  {
   "cell_type": "code",
   "execution_count": null,
   "metadata": {
    "collapsed": true
   },
   "outputs": [],
   "source": [
    "B[2, 2] += omega[0]*(1/3)"
   ]
  },
  {
   "cell_type": "markdown",
   "metadata": {},
   "source": [
    "$<\\varphi_2, \\varphi_3>$ is on the ymax boundary where $y=2$\n",
    "\n",
    "$B[2, 3] += \\hat{n}\\cdot \\Omega \\int_0^1(x + \\frac{1}{2}y - 1)(1 - x) dx =\\hat{n}\\cdot \\Omega \\int_0^1(x)(1-x) dx =  \\hat{n}\\cdot \\Omega \\int_0^1 x - x^2 = \\hat{n}\\cdot \\Omega [\\frac{1}{2}x^2 - \\frac{1}{3}x^3]_0^1 = .5773503∗[\\frac{1}{2} - \\frac{1}{3}]$"
   ]
  },
  {
   "cell_type": "code",
   "execution_count": null,
   "metadata": {
    "collapsed": true
   },
   "outputs": [],
   "source": [
    "B[2, 3] += .5773503*((1/2) - (1/3))"
   ]
  },
  {
   "cell_type": "markdown",
   "metadata": {},
   "source": [
    "$<\\varphi_3, \\varphi_1>$ is not on the boundary, so we ignore."
   ]
  },
  {
   "cell_type": "markdown",
   "metadata": {},
   "source": [
    "$B[3, 2] += B[2, 3] = .5773503∗[\\frac{1}{2}−\\frac{1}{3}]$"
   ]
  },
  {
   "cell_type": "code",
   "execution_count": null,
   "metadata": {
    "collapsed": true
   },
   "outputs": [],
   "source": [
    "B[3, 2] += .5773503*((1/2) - (1/3))"
   ]
  },
  {
   "cell_type": "markdown",
   "metadata": {},
   "source": [
    "$<\\varphi_3, \\varphi_3>$ is on the ymax boundary where $y=2$\n",
    "$B[3, 3] += \\hat{n}\\cdot \\Omega \\int_0^1 (1-x)^2 = \\hat{n}\\cdot \\Omega \\int_0^1 1 -2x +x^2 = \\hat{n}\\cdot \\Omega [x - x^2 + \\frac{1}{3}x^3]_0^1 =   .5773503* \\frac{1}{3}$"
   ]
  },
  {
   "cell_type": "code",
   "execution_count": null,
   "metadata": {
    "collapsed": true
   },
   "outputs": [],
   "source": [
    "B[3, 3] += omega[0]*(1/3)"
   ]
  },
  {
   "cell_type": "code",
   "execution_count": null,
   "metadata": {},
   "outputs": [],
   "source": [
    "B"
   ]
  },
  {
   "cell_type": "code",
   "execution_count": null,
   "metadata": {},
   "outputs": [],
   "source": [
    "omega[0]*(1/3)"
   ]
  },
  {
   "cell_type": "code",
   "execution_count": null,
   "metadata": {
    "collapsed": true
   },
   "outputs": [],
   "source": []
  }
 ],
 "metadata": {
  "kernelspec": {
   "display_name": "Python 2",
   "language": "python",
   "name": "python2"
  },
  "language_info": {
   "codemirror_mode": {
    "name": "ipython",
    "version": 2
   },
   "file_extension": ".py",
   "mimetype": "text/x-python",
   "name": "python",
   "nbconvert_exporter": "python",
   "pygments_lexer": "ipython2",
   "version": "2.7.13"
  }
 },
 "nbformat": 4,
 "nbformat_minor": 2
}
