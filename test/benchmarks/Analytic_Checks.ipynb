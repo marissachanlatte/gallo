{
 "cells": [
  {
   "cell_type": "code",
   "execution_count": 1,
   "metadata": {
    "collapsed": true
   },
   "outputs": [],
   "source": [
    "import numpy as np\n",
    "import matplotlib.pyplot as plt\n",
    "import matplotlib.tri as tri\n",
    "from __future__ import division"
   ]
  },
  {
   "cell_type": "markdown",
   "metadata": {},
   "source": [
    "# SAAF VALIDATION"
   ]
  },
  {
   "cell_type": "markdown",
   "metadata": {},
   "source": [
    "Hand Calculation of SAAF on two-element grid"
   ]
  },
  {
   "cell_type": "code",
   "execution_count": 2,
   "metadata": {
    "scrolled": true
   },
   "outputs": [
    {
     "data": {
      "image/png": "[encoded data removed]",
      "text/plain": [
       "<matplotlib.figure.Figure at 0x115aa8910>"
      ]
     },
     "metadata": {},
     "output_type": "display_data"
    }
   ],
   "source": [
    "x = np.array([0, 1, 1, 0])\n",
    "y = np.array([0, 0, 1, 1])\n",
    "triangles = np.array([[3, 0, 1], [1, 2, 3]])\n",
    "triangulation = tri.Triangulation(x, y, triangles=triangles)\n",
    "plt.triplot(triangulation)\n",
    "plt.scatter(x, y, marker='o')\n",
    "for i in range(4):\n",
    "    plt.annotate(i, (x[i], y[i]))\n",
    "plt.show()"
   ]
  },
  {
   "cell_type": "markdown",
   "metadata": {},
   "source": [
    "$\\Omega = [.5773503, .5773503], \\sigma_t = 1, \\frac{1}{\\sigma_t} = 1$"
   ]
  },
  {
   "cell_type": "code",
   "execution_count": 3,
   "metadata": {
    "collapsed": true
   },
   "outputs": [],
   "source": [
    "omega = np.array([.5773503,.5773503])\n",
    "sigt = 1\n",
    "inv_sigt = 1"
   ]
  },
  {
   "cell_type": "markdown",
   "metadata": {},
   "source": [
    "Instantiate A matrix (four nodes $\\rightarrow$ 4x4)"
   ]
  },
  {
   "cell_type": "code",
   "execution_count": 4,
   "metadata": {
    "collapsed": true
   },
   "outputs": [],
   "source": [
    "A = np.zeros((4, 4))"
   ]
  },
  {
   "cell_type": "markdown",
   "metadata": {},
   "source": [
    "### Loop over the elements:\n",
    "    for element 0, calculate the basis functions"
   ]
  },
  {
   "cell_type": "code",
   "execution_count": 5,
   "metadata": {
    "scrolled": true
   },
   "outputs": [
    {
     "data": {
      "text/plain": [
       "array([[ 0.,  1.,  0.],\n",
       "       [ 0., -1.,  1.],\n",
       "       [ 1., -1.,  0.]])"
      ]
     },
     "execution_count": 5,
     "metadata": {},
     "output_type": "execute_result"
    }
   ],
   "source": [
    "V = np.array([[1, 0, 1], [1, 0, 0], [1, 1, 0]])\n",
    "C = np.linalg.inv(V)\n",
    "C"
   ]
  },
  {
   "cell_type": "markdown",
   "metadata": {},
   "source": [
    "Basis functions (using global node numbers as indicies)\n",
    "$\\varphi_3 = 0 + 0x + 1y  = y\\\\\n",
    "\\varphi_0 = 1 + -1x -1y = 1 - (x+y) \\\\\n",
    "\\varphi_1 = 0 + x +0y = x$"
   ]
  },
  {
   "cell_type": "markdown",
   "metadata": {},
   "source": [
    "    Loop through basis function pairs:\n",
    "        All are on the boundary, now figure out which boundary.\n",
    "$<\\varphi_3, \\varphi_3>$ is on the x-min boundary. $\\hat{n} = [-1, 0]$ $\\hat{n} \\cdot \\Omega =  -.5773503$ which is less than 0, so we ignore.\n",
    "\n",
    "$<\\varphi_3, \\varphi_0>$ is on the x-min boundary. $\\hat{n} = [-1, 0]$ $\\hat{n} \\cdot \\Omega =  -.5773503$ which is less than 0, so we ignore.\n",
    "\n",
    "$<\\varphi_3, \\varphi_1>$ is not on the boundary, so we ignore.\n",
    "\n",
    "$<\\varphi_0, \\varphi_3>$ is on the x-min boundary.  $\\hat{n} = [-1, 0]$ $\\hat{n} \\cdot \\Omega =  -.5773503$ which is less than 0, so we ignore.\n",
    "\n",
    "$<\\varphi_0, \\varphi_0>$ is on the x-min boundary. $\\hat{n} = [-1, 0]$ $\\hat{n} \\cdot \\Omega =  -.5773503$ which is less than 0, so we ignore.\n",
    "\n",
    "$<\\varphi_0, \\varphi_1>$ is on the y-min boundary. $\\hat{n} = [0, -1]$ $\\hat{n} \\cdot \\Omega =  -.5773503$ which is less than 0, so we ignore.\n",
    "\n",
    "\n",
    "$<\\varphi_1, \\varphi_3>$ is not on the boundary, so we ignore.\n",
    "\n",
    "$<\\varphi_1, \\varphi_0>$ is on the y-min boundary. $\\hat{n} = [0, -1]$ $\\hat{n} \\cdot \\Omega =  -.5773503$ which is less than 0, so we ignore.\n",
    "\n",
    "$<\\varphi_1, \\varphi_1>$ is on the y-min boundary. $\\hat{n} = [-1, 0]$ $\\hat{n} \\cdot \\Omega =  -.5773503$ which is less than 0, so we ignore.\n",
    "\n",
    "Those are all of the basis combinations for the first element, and A remains unchanged."
   ]
  },
  {
   "cell_type": "markdown",
   "metadata": {},
   "source": [
    "    for element 1 calculate basis functions:"
   ]
  },
  {
   "cell_type": "code",
   "execution_count": 6,
   "metadata": {},
   "outputs": [
    {
     "data": {
      "text/plain": [
       "array([[ 1., -1.,  1.],\n",
       "       [ 0.,  1., -1.],\n",
       "       [-1.,  1.,  0.]])"
      ]
     },
     "execution_count": 6,
     "metadata": {},
     "output_type": "execute_result"
    }
   ],
   "source": [
    "V = np.array([[1, 1, 0], [1, 1, 1], [1, 0, 1]])\n",
    "C = np.linalg.inv(V)\n",
    "C"
   ]
  },
  {
   "cell_type": "markdown",
   "metadata": {},
   "source": [
    "Basis functions (using global node numbers as indicies)\n",
    "$\\varphi_1 = 1 + 0x - 1y  = 1 - y\\\\\n",
    "\\varphi_2 = -1 + 1x + 1y = x + y - 1 \\\\\n",
    "\\varphi_3 = 1 - x +0y = 1 - x$"
   ]
  },
  {
   "cell_type": "markdown",
   "metadata": {},
   "source": [
    "    Loop through basis function pairs:\n",
    "        All are on the boundary, now figure out which boundary.\n",
    "$<\\varphi_1, \\varphi_1>$ is on the x-max boundary. $\\hat{n} = [1, 0]$ $\\hat{n} \\cdot \\Omega = .5773503$ which is $>0$, so $A[1, 1] += \\int_0^1 \\hat{n}\\cdot \\Omega \\varphi_1 \\varphi_1 = \\hat{n} \\cdot \\Omega \\int_0^1 (1-y)^2 = \\int_0^1 1 -2y +y^2 = \\hat{n} \\cdot \\Omega [y - y^2 + \\frac{1}{3}y^3]_0^1 = .5773503*\\frac{1}{3}$\n",
    "\n"
   ]
  },
  {
   "cell_type": "code",
   "execution_count": 7,
   "metadata": {
    "collapsed": true
   },
   "outputs": [],
   "source": [
    "A[1, 1] += omega[0]*(1/3)"
   ]
  },
  {
   "cell_type": "markdown",
   "metadata": {},
   "source": [
    "$<\\varphi_1, \\varphi_2>$ is on the x-max boundary. $\\hat{n} = [1, 0]$ $\\hat{n} \\cdot \\Omega = .5773503$ which is $>0$, so $A[1, 2] += \\int_0^1 \\hat{n}\\cdot \\Omega \\varphi_1 \\varphi_2 = \\hat{n} \\cdot \\Omega \\int_0^1 (1-y)(x + y -1) = .5773503(-\\frac{1}{3} + \\frac{1}{2})$"
   ]
  },
  {
   "cell_type": "code",
   "execution_count": 8,
   "metadata": {
    "collapsed": true
   },
   "outputs": [],
   "source": [
    "A[1, 2] += omega[0]*(1/2 - 1/3)"
   ]
  },
  {
   "cell_type": "markdown",
   "metadata": {},
   "source": [
    "$<\\varphi_1, \\varphi_3>$ is not on the boundary, so we ignore\n",
    "\n",
    "$<\\varphi_2, \\varphi_1>$ is on the x-max boundary. $\\hat{n} = [1, 0]$ $\\hat{n} \\cdot \\Omega = .5773503$ which is $>0$, so $A[2, 1] += \\int_0^1 \\hat{n}\\cdot \\Omega \\varphi_1 \\varphi_2 = \\hat{n} \\cdot \\Omega \\int_0^1 (1-y)(x + y -1) = .5773503(-\\frac{1}{3} + \\frac{1}{2})$"
   ]
  },
  {
   "cell_type": "code",
   "execution_count": 9,
   "metadata": {
    "collapsed": true
   },
   "outputs": [],
   "source": [
    "A[2, 1] += omega[0]*(1/2 - 1/3)"
   ]
  },
  {
   "cell_type": "markdown",
   "metadata": {},
   "source": [
    "$<\\varphi_2, \\varphi_2>$ is on both boundaries we do each one at a time.\n",
    "For the ymax boundary, $\\hat{n} = [0, 1]$ $\\hat{n} \\cdot \\Omega = .5773503 > 0$ so $A[2, 2] += \\int_0^1 \\hat{n}\\cdot \\Omega \\varphi_2 \\varphi_2 = \\hat{n} \\cdot \\Omega \\int_0^1(x+y-1)(x+y-1) = \\hat{n} \\cdot \\Omega \\int_0^1(x+1-1)(x+1-1) = \\hat{n} \\cdot \\Omega \\int_0^1x^2 = \\hat{n} \\cdot \\Omega [\\frac{1}{3}x^3]_0^1 = .5773503(\\frac{1}{3})  $\n"
   ]
  },
  {
   "cell_type": "code",
   "execution_count": 10,
   "metadata": {
    "collapsed": true
   },
   "outputs": [],
   "source": [
    "A[2, 2] += omega[1]*(1/3)"
   ]
  },
  {
   "cell_type": "markdown",
   "metadata": {},
   "source": [
    "For the xmax boundary,$ \\hat{n} = [1, 0]$ $\\hat{n} \\cdot \\Omega = .5773503$ which is $>0$, so $A[2, 2] += \\int_0^1 \\hat{n}\\cdot \\Omega \\varphi_2 \\varphi_2 = .5773503(\\frac{1}{3})$"
   ]
  },
  {
   "cell_type": "code",
   "execution_count": 11,
   "metadata": {
    "collapsed": true
   },
   "outputs": [],
   "source": [
    "A[2, 2] += omega[0]*(1/3)"
   ]
  },
  {
   "cell_type": "markdown",
   "metadata": {},
   "source": [
    "$<\\varphi_2, \\varphi_3>$ is on the y-max boundary. $\\hat{n} = [0, 1]$ $\\hat{n} \\cdot \\Omega = .5773503 > 0$, so $A[2, 3] += \\int_0^1 \\hat{n}\\cdot \\Omega \\varphi_2 \\varphi_3 = \\hat{n} \\cdot \\Omega \\int_0^1(x+y-1)(1-x) = \\hat{n} \\cdot \\Omega [\\frac{1}{2} - \\frac{1}{3}] $"
   ]
  },
  {
   "cell_type": "code",
   "execution_count": 12,
   "metadata": {
    "collapsed": true
   },
   "outputs": [],
   "source": [
    "A[2, 3] += omega[1]*(1/2 - 1/3)"
   ]
  },
  {
   "cell_type": "markdown",
   "metadata": {},
   "source": [
    "$<\\varphi_3, \\varphi_1>$ is not on the boundary, so we ignore\n",
    "\n",
    "$<\\varphi_3, \\varphi_2>$ is on the y-max boundary. $\\hat{n} = [0, 1]$ $\\hat{n} \\cdot \\Omega = .5773503 > 0$, so $A[3, 2] += \\int_0^1 \\hat{n}\\cdot \\Omega \\varphi_2 \\varphi_3 = \\hat{n} \\cdot \\Omega \\int_0^1(x+y-1)(1-x) = \\hat{n} \\cdot \\Omega [\\frac{1}{2} - \\frac{1}{3}] $"
   ]
  },
  {
   "cell_type": "code",
   "execution_count": 13,
   "metadata": {
    "collapsed": true
   },
   "outputs": [],
   "source": [
    "A[3, 2] += omega[1]*(1/2 - 1/3)"
   ]
  },
  {
   "cell_type": "markdown",
   "metadata": {},
   "source": [
    "$<\\varphi_3, \\varphi_3>$ is on the y-max boundary. $\\hat{n} = [0, 1]$ $\\hat{n} \\cdot \\Omega = .5773503 > 0$, so $A[3, 3] += \\int_0^1 \\hat{n}\\cdot \\Omega \\varphi_3 \\varphi_3 = \\hat{n} \\cdot \\Omega \\int_0^1(1-x)(1-x) =\\hat{n} \\cdot \\Omega \\int_0^1 1 - 2x + x^2 = \\hat{n} \\cdot \\Omega [x - x^2 + \\frac{1}{3}x^3]_0^1 = .5773503(\\frac{1}{3}) $"
   ]
  },
  {
   "cell_type": "code",
   "execution_count": 14,
   "metadata": {
    "collapsed": true
   },
   "outputs": [],
   "source": [
    "A[3, 3] += omega[0]*(1/3)"
   ]
  },
  {
   "cell_type": "markdown",
   "metadata": {},
   "source": [
    "Those are all the elements, so the final A is"
   ]
  },
  {
   "cell_type": "code",
   "execution_count": 15,
   "metadata": {},
   "outputs": [
    {
     "name": "stdout",
     "output_type": "stream",
     "text": [
      "[[ 0.          0.          0.          0.        ]\n",
      " [ 0.          0.1924501   0.09622505  0.        ]\n",
      " [ 0.          0.09622505  0.3849002   0.09622505]\n",
      " [ 0.          0.          0.09622505  0.1924501 ]]\n"
     ]
    }
   ],
   "source": [
    "print(A)"
   ]
  },
  {
   "cell_type": "markdown",
   "metadata": {
    "collapsed": true
   },
   "source": [
    "Which checks out with the code's LHS matrix for this problem (input name std.1)"
   ]
  },
  {
   "cell_type": "markdown",
   "metadata": {
    "collapsed": true
   },
   "source": [
    "## Non-Standard Grid"
   ]
  },
  {
   "cell_type": "code",
   "execution_count": 16,
   "metadata": {},
   "outputs": [
    {
     "data": {
      "image/png": "[encoded data removed]",
      "text/plain": [
       "<matplotlib.figure.Figure at 0x115b32850>"
      ]
     },
     "metadata": {},
     "output_type": "display_data"
    }
   ],
   "source": [
    "x = np.array([0, 1, 1, 0])\n",
    "y = np.array([0, 0, 2, 2])\n",
    "triangles = np.array([[3, 0, 1], [1, 2, 3]])\n",
    "triangulation = tri.Triangulation(x, y, triangles=triangles)\n",
    "plt.triplot(triangulation)\n",
    "plt.scatter(x, y, marker='o')\n",
    "for i in range(4):\n",
    "    plt.annotate(i, (x[i], y[i]))\n",
    "plt.show()"
   ]
  },
  {
   "cell_type": "markdown",
   "metadata": {},
   "source": [
    "Same problem as before, new geometry. \n",
    "$\\Omega = [.5773503, .5773503], \\sigma_t = 1, \\frac{1}{\\sigma_t} = 1$\n",
    "\n",
    "Instantiate A matrix (four nodes $\\rightarrow$ 4x4)"
   ]
  },
  {
   "cell_type": "code",
   "execution_count": 17,
   "metadata": {
    "collapsed": true
   },
   "outputs": [],
   "source": [
    "B = np.zeros((4, 4))"
   ]
  },
  {
   "cell_type": "markdown",
   "metadata": {},
   "source": [
    "### Loop over the elements:\n",
    "\n",
    "For all of element 0 $\\hat{n}\\cdot \\Omega < 0$, (see above) so move on to element 1.\n",
    "\n",
    "Calculate Basis Functions."
   ]
  },
  {
   "cell_type": "code",
   "execution_count": 18,
   "metadata": {},
   "outputs": [
    {
     "data": {
      "text/plain": [
       "array([[ 1. , -1. ,  1. ],\n",
       "       [ 0. ,  1. , -1. ],\n",
       "       [-0.5,  0.5,  0. ]])"
      ]
     },
     "execution_count": 18,
     "metadata": {},
     "output_type": "execute_result"
    }
   ],
   "source": [
    "V = np.array([[1, 1, 0], [1, 1, 2], [1, 0, 2]])\n",
    "C = np.linalg.inv(V)\n",
    "C"
   ]
  },
  {
   "cell_type": "markdown",
   "metadata": {},
   "source": [
    "Basis functions (using global node numbers as indicies)\n",
    "$\\varphi_1 = 1 + 0x - .5y  = 1 - .5y\\\\\n",
    "\\varphi_2 = -1 + 1x + .5y = x + .5y - 1 \\\\\n",
    "\\varphi_3 = 1 - x +0y = 1 - x$"
   ]
  },
  {
   "cell_type": "markdown",
   "metadata": {},
   "source": [
    "$B[1, 1] += \\int_0^2 \\hat{n}\\cdot \\Omega \\varphi_1 \\varphi_1 = \\hat{n} \\cdot \\Omega \\int_0^2 (1-\\frac{1}{2}y)^2 = \\int_0^2 1 -y +\\frac{1}{4}y^2 = \\hat{n} \\cdot \\Omega [y - \\frac{1}{2}y^2 + \\frac{1}{12}y^3]_0^2 = .5773503*[2 - \\frac{4}{2} + \\frac{8}{12}] = .5773503*[2 - 2 + \\frac{2}{3}]$"
   ]
  },
  {
   "cell_type": "code",
   "execution_count": 32,
   "metadata": {},
   "outputs": [
    {
     "name": "stdout",
     "output_type": "stream",
     "text": [
      "0.3849002\n"
     ]
    }
   ],
   "source": [
    "B[1, 1] = omega[0]*(2/3)\n",
    "print(B[1, 1])"
   ]
  },
  {
   "cell_type": "markdown",
   "metadata": {},
   "source": [
    "$B[1, 2] += \\int_0^2 \\hat{n}\\cdot \\Omega \\varphi_1 \\varphi_2 = \\hat{n}\\cdot \\Omega \\int_0^2 (1 -\\frac{1}{2}y)(x + \\frac{1}{2}y - 1) $ On the xmax boundary $x=1,  \\hat{n}\\cdot \\Omega \\int_0^2 (1 -\\frac{1}{2}y)(\\frac{1}{2}y) = \\hat{n}\\cdot \\Omega \\int_0^2 \\frac{1}{2}y - \\frac{1}{4}y^2 =\\hat{n}\\cdot \\Omega [\\frac{1}{4}y^2 - \\frac{1}{12}y^3]0^2 = \\hat{n}\\cdot \\Omega[ \\frac{4}{4} - \\frac{8}{12}] = .5773503∗[1 - \\frac{2}{3}]$"
   ]
  },
  {
   "cell_type": "code",
   "execution_count": 30,
   "metadata": {},
   "outputs": [],
   "source": [
    "B[1, 2] += omega[0]*(1 - (2/3))"
   ]
  },
  {
   "cell_type": "markdown",
   "metadata": {},
   "source": [
    "$<\\varphi_1, \\varphi_3>$ is not on the boundary."
   ]
  },
  {
   "cell_type": "markdown",
   "metadata": {},
   "source": [
    "$<\\varphi_2, \\varphi_1>$ is on the xmax boundary and $x=1$\n",
    "$B[2, 1] += \\int_0^2 \\hat{n}\\cdot \\Omega \\varphi_1 \\varphi_2 = \\hat{n}\\cdot \\Omega \\int_0^2 (1 -\\frac{1}{2}y)(x + \\frac{1}{2}y - 1) $ On the xmax boundary $x=1,  \\hat{n}\\cdot \\Omega \\int_0^2 (1 -\\frac{1}{2}y)(\\frac{1}{2}y) = \\hat{n}\\cdot \\Omega \\int_0^2 \\frac{1}{2}y - \\frac{1}{4}y^2 =\\hat{n}\\cdot \\Omega [\\frac{1}{4}y^2 - \\frac{1}{12}y^3]0^2 = \\hat{n}\\cdot \\Omega[ \\frac{4}{4} - \\frac{8}{12}] = .5773503∗[1 - \\frac{2}{3}]$"
   ]
  },
  {
   "cell_type": "code",
   "execution_count": 21,
   "metadata": {
    "collapsed": true
   },
   "outputs": [],
   "source": [
    "B[2, 1] += omega[0]*(1 - (2/3))"
   ]
  },
  {
   "cell_type": "markdown",
   "metadata": {},
   "source": [
    "$<\\varphi_2, \\varphi_2>$ is along both max boundaries so we split up into two calculations. First the xmax boundary where $x=1$:  \n",
    "\n",
    "$B[2, 2] += \\int_0^2 \\hat{n}\\cdot \\Omega \\varphi_2 \\varphi_2 = \\hat{n}\\cdot \\Omega \\int_0^2 (x + \\frac{1}{2}y - 1)^2 = \\hat{n}\\cdot \\Omega \\int_0^2 (\\frac{1}{2}y)^2 = \\hat{n}\\cdot \\Omega \\int_0^2 \\frac{1}{4}y^2 = \\hat{n}\\cdot \\Omega [\\frac{1}{12}y^3]_0^2 = .5773503*\\frac{2}{3}$"
   ]
  },
  {
   "cell_type": "code",
   "execution_count": 22,
   "metadata": {
    "collapsed": true
   },
   "outputs": [],
   "source": [
    "B[2, 2] += omega[0]*(2/3)"
   ]
  },
  {
   "cell_type": "markdown",
   "metadata": {},
   "source": [
    "Now incorporate the integral along the ymax boundary where $y=2$\n",
    "\n",
    "$B[2, 2] += \\int_0^1 \\hat{n}\\cdot \\Omega \\varphi_2 \\varphi_2 = \\hat{n}\\cdot \\Omega \\int_0^1 (x + \\frac{1}{2}y - 1)^2 = \\hat{n}\\cdot \\Omega \\int_0^1 (x )^2 = \\hat{n}\\cdot \\Omega \\frac{1}{3}x^3 =.5773503*\\frac{1}{3}$ "
   ]
  },
  {
   "cell_type": "code",
   "execution_count": 23,
   "metadata": {
    "collapsed": true
   },
   "outputs": [],
   "source": [
    "B[2, 2] += omega[0]*(1/3)"
   ]
  },
  {
   "cell_type": "markdown",
   "metadata": {},
   "source": [
    "$<\\varphi_2, \\varphi_3>$ is on the ymax boundary where $y=2$\n",
    "\n",
    "$B[2, 3] += \\hat{n}\\cdot \\Omega \\int_0^1(x + \\frac{1}{2}y - 1)(1 - x) dx =\\hat{n}\\cdot \\Omega \\int_0^1(x)(1-x) dx =  \\hat{n}\\cdot \\Omega \\int_0^1 x - x^2 = \\hat{n}\\cdot \\Omega [\\frac{1}{2}x^2 - \\frac{1}{3}x^3]_0^1 = .5773503∗[\\frac{1}{2} - \\frac{1}{3}]$"
   ]
  },
  {
   "cell_type": "code",
   "execution_count": 24,
   "metadata": {
    "collapsed": true
   },
   "outputs": [],
   "source": [
    "B[2, 3] += .5773503*((1/2) - (1/3))"
   ]
  },
  {
   "cell_type": "markdown",
   "metadata": {},
   "source": [
    "$<\\varphi_3, \\varphi_1>$ is not on the boundary, so we ignore."
   ]
  },
  {
   "cell_type": "markdown",
   "metadata": {},
   "source": [
    "$B[3, 2] += B[2, 3] = .5773503∗[\\frac{1}{2}−\\frac{1}{3}]$"
   ]
  },
  {
   "cell_type": "code",
   "execution_count": 25,
   "metadata": {
    "collapsed": true
   },
   "outputs": [],
   "source": [
    "B[3, 2] += .5773503*((1/2) - (1/3))"
   ]
  },
  {
   "cell_type": "markdown",
   "metadata": {},
   "source": [
    "$<\\varphi_3, \\varphi_3>$ is on the ymax boundary where $y=2$\n",
    "$B[3, 3] += \\hat{n}\\cdot \\Omega \\int_0^1 (1-x)^2 = \\hat{n}\\cdot \\Omega \\int_0^1 1 -2x +x^2 = \\hat{n}\\cdot \\Omega [x - x^2 + \\frac{1}{3}x^3]_0^1 =   .5773503* \\frac{1}{3}$"
   ]
  },
  {
   "cell_type": "code",
   "execution_count": 26,
   "metadata": {
    "collapsed": true
   },
   "outputs": [],
   "source": [
    "B[3, 3] += omega[0]*(1/3)"
   ]
  },
  {
   "cell_type": "code",
   "execution_count": 33,
   "metadata": {},
   "outputs": [
    {
     "data": {
      "text/plain": [
       "array([[ 0.        ,  0.        ,  0.        ,  0.        ],\n",
       "       [ 0.        ,  0.3849002 ,  0.5773503 ,  0.        ],\n",
       "       [ 0.        ,  0.1924501 ,  0.5773503 ,  0.09622505],\n",
       "       [ 0.        ,  0.        ,  0.09622505,  0.1924501 ]])"
      ]
     },
     "execution_count": 33,
     "metadata": {},
     "output_type": "execute_result"
    }
   ],
   "source": [
    "B"
   ]
  },
  {
   "cell_type": "code",
   "execution_count": null,
   "metadata": {
    "collapsed": true
   },
   "outputs": [],
   "source": []
  }
 ],
 "metadata": {
  "kernelspec": {
   "display_name": "Python 2",
   "language": "python",
   "name": "python2"
  },
  "language_info": {
   "codemirror_mode": {
    "name": "ipython",
    "version": 2
   },
   "file_extension": ".py",
   "mimetype": "text/x-python",
   "name": "python",
   "nbconvert_exporter": "python",
   "pygments_lexer": "ipython2",
   "version": "2.7.13"
  }
 },
 "nbformat": 4,
 "nbformat_minor": 2
}
