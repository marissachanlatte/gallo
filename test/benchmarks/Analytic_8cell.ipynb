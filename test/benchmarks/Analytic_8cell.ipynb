{
 "cells": [
  {
   "cell_type": "code",
   "execution_count": 1,
   "metadata": {
    "collapsed": true
   },
   "outputs": [],
   "source": [
    "import numpy as np\n",
    "import matplotlib.pyplot as plt\n",
    "import matplotlib.tri as tri\n",
    "from __future__ import division"
   ]
  },
  {
   "cell_type": "code",
   "execution_count": 2,
   "metadata": {},
   "outputs": [
    {
     "data": {
      "image/png": "[encoded data removed]",
      "text/plain": [
       "<matplotlib.figure.Figure at 0x10d98d910>"
      ]
     },
     "metadata": {},
     "output_type": "display_data"
    }
   ],
   "source": [
    "x = np.array([0, 1, 1, 0, .5,  0,  1, .5, .5])\n",
    "y = np.array([0, 0, 1, 1, .5, .5, .5,  1,  0])\n",
    "triangles = np.array([[0, 8, 4], [8, 4, 1], [1, 4, 6],\n",
    "                      [4, 6, 2], [2, 4, 7], [7, 4, 3],\n",
    "                      [3, 4, 5], [5, 4, 0]])\n",
    "triangulation = tri.Triangulation(x, y, triangles=triangles)\n",
    "plt.triplot(triangulation)\n",
    "plt.scatter(x, y, marker='o')\n",
    "for i in range(9):\n",
    "    plt.annotate(i, (x[i], y[i]))\n",
    "plt.show()"
   ]
  },
  {
   "cell_type": "markdown",
   "metadata": {},
   "source": [
    "Calculate Cell Contributions. Loop through elements:\n",
    "Recall $A[i, j] += \\int_D \\frac{1}{\\sigma_t}\\Omega \\cdot \\nabla \\varphi_i \\Omega \\cdot \\nabla \\varphi_j + \\int_D \\sigma_t \\varphi_i \\varphi_j$\n",
    "\n",
    "Element 0, calculate basis functions:\n"
   ]
  },
  {
   "cell_type": "code",
   "execution_count": 3,
   "metadata": {},
   "outputs": [
    {
     "data": {
      "text/plain": [
       "array([[ 1.,  0.,  0.],\n",
       "       [-2.,  2.,  0.],\n",
       "       [ 0., -2.,  2.]])"
      ]
     },
     "execution_count": 3,
     "metadata": {},
     "output_type": "execute_result"
    }
   ],
   "source": [
    "V = np.array([[1, 0, 0], [1, .5, 0], [1, .5, .5]])\n",
    "C = np.linalg.inv(V)\n",
    "C"
   ]
  },
  {
   "cell_type": "markdown",
   "metadata": {},
   "source": [
    "Basis functions (using global node numbers as indicies):\n",
    "\n",
    "$\\varphi_0 = 1 -2x \\\\\n",
    "\\varphi_8 = 2x - 2y \\\\\n",
    "\\varphi_4 = 2y$"
   ]
  },
  {
   "cell_type": "markdown",
   "metadata": {},
   "source": [
    "$\\int_D \\varphi_0 \\varphi_0 = \\int_0^{.5} \\int_0^x (1-2x)^2 dy dx = \\frac{1}{48} \\\\\n",
    "\\int_D \\varphi_0 \\varphi_8 = \\int_0^{.5} \\int_0^x (1-2x)(2x-2y) dy dx = \\frac{1}{96} \\\\\n",
    "\\int_D \\varphi_0 \\varphi_4 = \\int_0^{.5} \\int_0^x (1-2x)(2y) dy dx = \\frac{1}{96} \\\\\n",
    "\\int_D \\varphi_8 \\varphi_0 = \\int_0^{.5} \\int_0^x (1-2x)(2x-2y) dy dx = \\frac{1}{96} \\\\\n",
    "\\int_D \\varphi_8 \\varphi_8 = \\int_0^{.5} \\int_0^x (2x-2y)^2 dy dx = \\frac{1}{48} \\\\\n",
    "\\int_D \\varphi_8 \\varphi_4 = \\int_0^{.5} \\int_0^x (2x-2y)(2y) dy dx = \\frac{1}{96} \\\\\n",
    "\\int_D \\varphi_4 \\varphi_0 = \\int_0^{.5} \\int_0^x (1-2x)(2y) dy dx = \\frac{1}{96} \\\\\n",
    "\\int_D \\varphi_4 \\varphi_8 = \\int_0^{.5} \\int_0^x (2x-2y)(2y) dy dx = \\frac{1}{96} \\\\\n",
    "\\int_D \\varphi_4 \\varphi_4 = \\int_0^{.5} \\int_0^x (2y)^2 dy dx = \\frac{1}{48} $"
   ]
  },
  {
   "cell_type": "markdown",
   "metadata": {},
   "source": [
    "Element 1. Calculate Basis Functions"
   ]
  },
  {
   "cell_type": "code",
   "execution_count": 4,
   "metadata": {},
   "outputs": [
    {
     "data": {
      "text/plain": [
       "array([[-1.,  2.,  0.],\n",
       "       [ 2., -2.,  0.],\n",
       "       [ 0., -2.,  2.]])"
      ]
     },
     "execution_count": 4,
     "metadata": {},
     "output_type": "execute_result"
    }
   ],
   "source": [
    "V = np.array([[1, 1, 0], [1, .5, 0], [1, .5, .5]])\n",
    "C = np.linalg.inv(V)\n",
    "C"
   ]
  },
  {
   "cell_type": "markdown",
   "metadata": {},
   "source": [
    "$\\varphi_1 = -1 + 2x \\\\\n",
    "\\varphi_8 = 2 - 2x - 2y \\\\\n",
    "\\varphi_4 = 2y$"
   ]
  },
  {
   "cell_type": "markdown",
   "metadata": {},
   "source": [
    "$ \\int_D \\varphi_1 \\varphi_1 = \\int_{.5}^1 \\int_0^{-x+1} (-1+2x)^2 dy dx = \\frac{1}{48} \\\\\n",
    " \\int_D \\varphi_1 \\varphi_8 = \\int_{.5}^1 \\int_0^{-x+1} (-1+2x)(2-2x-2y) dy dx = \\frac{1}{96} \\\\\n",
    "$\n",
    "\n",
    "we can see the pattern... "
   ]
  },
  {
   "cell_type": "markdown",
   "metadata": {},
   "source": [
    "Element 2. Calculate Basis Functions"
   ]
  },
  {
   "cell_type": "code",
   "execution_count": 5,
   "metadata": {},
   "outputs": [
    {
     "data": {
      "text/plain": [
       "array([[ 1., -2.,  2.],\n",
       "       [ 0.,  2., -2.],\n",
       "       [-2.,  2.,  0.]])"
      ]
     },
     "execution_count": 5,
     "metadata": {},
     "output_type": "execute_result"
    }
   ],
   "source": [
    "V = np.array([[1, 1, 0], [1, 1, .5], [1, .5, .5]])\n",
    "C = np.linalg.inv(V)\n",
    "C"
   ]
  },
  {
   "cell_type": "markdown",
   "metadata": {},
   "source": [
    "$\\varphi_1 = 1 - 2y \\\\\n",
    "\\varphi_7 = -2 + 2x + 2y \\\\\n",
    "\\varphi_4 = 2 - 2x$"
   ]
  },
  {
   "cell_type": "markdown",
   "metadata": {},
   "source": [
    "Element 3. Calculate Basis Functions."
   ]
  },
  {
   "cell_type": "code",
   "execution_count": 6,
   "metadata": {},
   "outputs": [
    {
     "data": {
      "text/plain": [
       "array([[-1.,  0.,  2.],\n",
       "       [ 0.,  2., -2.],\n",
       "       [ 2., -2.,  0.]])"
      ]
     },
     "execution_count": 6,
     "metadata": {},
     "output_type": "execute_result"
    }
   ],
   "source": [
    "V = np.array([[1, 1, 1], [1, 1, .5], [1, .5, .5]])\n",
    "C = np.linalg.inv(V)\n",
    "C"
   ]
  },
  {
   "cell_type": "markdown",
   "metadata": {},
   "source": [
    "$\\varphi_2 = -1 + 2y \\\\\n",
    "\\varphi_7 = 2x - 2y \\\\\n",
    "\\varphi_4 = 2 - 2x$"
   ]
  },
  {
   "cell_type": "markdown",
   "metadata": {},
   "source": [
    "Element 4. Calculate Basis Functions."
   ]
  },
  {
   "cell_type": "code",
   "execution_count": 7,
   "metadata": {},
   "outputs": [
    {
     "data": {
      "text/plain": [
       "array([[-1.,  0.,  2.],\n",
       "       [ 2., -2.,  0.],\n",
       "       [ 0.,  2., -2.]])"
      ]
     },
     "execution_count": 7,
     "metadata": {},
     "output_type": "execute_result"
    }
   ],
   "source": [
    "V = np.array([[1, 1, 1], [1, .5, 1], [1, .5, .5]])\n",
    "C = np.linalg.inv(V)\n",
    "C"
   ]
  },
  {
   "cell_type": "markdown",
   "metadata": {},
   "source": [
    "$\\varphi_2 = -1 + 2x \\\\\n",
    "\\varphi_6 = -2x + 2 \\\\\n",
    "\\varphi_4 = 2 -2y$"
   ]
  },
  {
   "cell_type": "markdown",
   "metadata": {},
   "source": [
    "Element 5. Calculate Basis Functions. "
   ]
  },
  {
   "cell_type": "code",
   "execution_count": 8,
   "metadata": {},
   "outputs": [
    {
     "data": {
      "text/plain": [
       "array([[ 1., -2.,  2.],\n",
       "       [-2.,  2.,  0.],\n",
       "       [ 0.,  2., -2.]])"
      ]
     },
     "execution_count": 8,
     "metadata": {},
     "output_type": "execute_result"
    }
   ],
   "source": [
    "V = np.array([[1, 0, 1], [1, .5, 1], [1, .5, .5]])\n",
    "C = np.linalg.inv(V)\n",
    "C"
   ]
  },
  {
   "cell_type": "markdown",
   "metadata": {},
   "source": [
    "$\\varphi_3 = 1 - 2x \\\\\n",
    "\\varphi_6 = -2 + 2x + 2y \\\\\n",
    "\\varphi_4 = 2 - 2y $"
   ]
  },
  {
   "cell_type": "markdown",
   "metadata": {},
   "source": [
    "Element 6. Calculate Basis Functions."
   ]
  },
  {
   "cell_type": "code",
   "execution_count": 9,
   "metadata": {},
   "outputs": [
    {
     "data": {
      "text/plain": [
       "array([[-1.,  2.,  0.],\n",
       "       [ 0., -2.,  2.],\n",
       "       [ 2., -2.,  0.]])"
      ]
     },
     "execution_count": 9,
     "metadata": {},
     "output_type": "execute_result"
    }
   ],
   "source": [
    "V = np.array([[1, 0, 1], [1, 0, .5], [1, .5, .5]])\n",
    "C = np.linalg.inv(V)\n",
    "C"
   ]
  },
  {
   "cell_type": "markdown",
   "metadata": {},
   "source": [
    "$\\varphi_3 = -1 + 2y \\\\\n",
    "\\varphi_5 = 2 - 2x - 2y \\\\\n",
    "\\varphi_4 = 2x$"
   ]
  },
  {
   "cell_type": "markdown",
   "metadata": {},
   "source": [
    "Element 7. Calculate Basis Functions."
   ]
  },
  {
   "cell_type": "code",
   "execution_count": 10,
   "metadata": {},
   "outputs": [
    {
     "data": {
      "text/plain": [
       "array([[ 1.,  0.,  0.],\n",
       "       [ 0., -2.,  2.],\n",
       "       [-2.,  2.,  0.]])"
      ]
     },
     "execution_count": 10,
     "metadata": {},
     "output_type": "execute_result"
    }
   ],
   "source": [
    "V = np.array([[1, 0, 0], [1, 0, .5], [1, .5, .5]])\n",
    "C = np.linalg.inv(V)\n",
    "C"
   ]
  },
  {
   "cell_type": "markdown",
   "metadata": {},
   "source": [
    "$\\varphi_0 = 1 - 2y \\\\\n",
    "\\varphi_5 = -2x + 2y \\\\\n",
    "\\varphi_4 = 2x$"
   ]
  },
  {
   "cell_type": "markdown",
   "metadata": {},
   "source": [
    "Calculate Boundary Contributions:\n",
    "$ \\int_{\\Gamma}\\hat{n} \\cdot \\Omega \\varphi_i \\varphi_j$"
   ]
  },
  {
   "cell_type": "markdown",
   "metadata": {},
   "source": [
    "##### Boundary Bottom\n",
    "Element 0:\n",
    "$\\int_{\\Gamma}\\hat{n} \\cdot \\Omega \\varphi_0 \\varphi_0 = \\hat{n} \\cdot \\Omega \\int_0^{.5} (1-2x)^2 dx = \\frac{1}{6} \\\\ \n",
    "\\int_{\\Gamma}\\hat{n} \\cdot \\Omega \\varphi_0 \\varphi_8 = \\hat{n} \\cdot \\Omega \\int_0^{.5} (1-2x)(2x) dx = \\frac{1}{12} \\\\\n",
    "\\int_{\\Gamma}\\hat{n} \\cdot \\Omega \\varphi_8 \\varphi_0 = \\hat{n} \\cdot \\Omega \\int_0^{.5} (1-2x)(2x) dx = \\frac{1}{12} \\\\\n",
    "\\int_{\\Gamma}\\hat{n} \\cdot \\Omega \\varphi_8 \\varphi_8 = \\hat{n} \\cdot \\Omega \\int_0^{.5} (2x)^2 dx = \\frac{1}{6} \n",
    "$ \n",
    "Element 1:\n",
    "$\n",
    "\\int_{\\Gamma}\\hat{n} \\cdot \\Omega \\varphi_8 \\varphi_8 = \\hat{n} \\cdot \\Omega \\int_{.5}^{1} (2-2x)^2 dx = \\frac{1}{6}$\n",
    "\n",
    "and we see the pattern..."
   ]
  },
  {
   "cell_type": "code",
   "execution_count": 11,
   "metadata": {
    "collapsed": true
   },
   "outputs": [],
   "source": [
    "def cell_contribution(A, omega, sigt):\n",
    "    # Contribution from first part \n",
    "    area = 1/8\n",
    "    # Element 0\n",
    "    grad0 = np.array([-2, 0])\n",
    "    grad8 = np.array([2, -2])\n",
    "    grad4 = np.array([0, 2])\n",
    "    A[0, 0] += 1/sigt*area*np.dot(omega, grad0)*np.dot(omega, grad0)\n",
    "    A[0, 8] += 1/sigt*area*np.dot(omega, grad0)*np.dot(omega, grad8)\n",
    "    A[0, 4] += 1/sigt*area*np.dot(omega, grad0)*np.dot(omega, grad4)\n",
    "    A[8, 0] += 1/sigt*area*np.dot(omega, grad8)*np.dot(omega, grad0)\n",
    "    A[8, 8] += 1/sigt*area*np.dot(omega, grad8)*np.dot(omega, grad8)\n",
    "    A[8, 4] += 1/sigt*area*np.dot(omega, grad8)*np.dot(omega, grad4)\n",
    "    A[4, 0] += 1/sigt*area*np.dot(omega, grad4)*np.dot(omega, grad0)\n",
    "    A[4, 8] += 1/sigt*area*np.dot(omega, grad4)*np.dot(omega, grad8)\n",
    "    A[4, 4] += 1/sigt*area*np.dot(omega, grad4)*np.dot(omega, grad4)\n",
    "    \n",
    "    A[0, 0] += 1/48\n",
    "    A[0, 8] += 1/96\n",
    "    A[0, 4] += 1/96\n",
    "    A[8, 0] += 1/96\n",
    "    A[8, 8] += 1/48\n",
    "    A[8, 4] += 1/96\n",
    "    A[4, 0] += 1/96\n",
    "    A[4, 8] += 1/96\n",
    "    A[4, 4] += 1/48\n",
    "    \n",
    "    # Element 1\n",
    "    grad1 = np.array([2, 0])\n",
    "    grad8 = np.array([-2, -2])\n",
    "    grad4 = np.array([0, 2])\n",
    "    \n",
    "    A[1, 1] += 1/sigt*area*np.dot(omega, grad1)*np.dot(omega, grad1)\n",
    "    A[1, 8] += 1/sigt*area*np.dot(omega, grad1)*np.dot(omega, grad8)\n",
    "    A[1, 4] += 1/sigt*area*np.dot(omega, grad1)*np.dot(omega, grad4)\n",
    "    A[8, 1] += 1/sigt*area*np.dot(omega, grad8)*np.dot(omega, grad1)\n",
    "    A[8, 8] += 1/sigt*area*np.dot(omega, grad8)*np.dot(omega, grad8)\n",
    "    A[8, 4] += 1/sigt*area*np.dot(omega, grad8)*np.dot(omega, grad4)\n",
    "    A[4, 1] += 1/sigt*area*np.dot(omega, grad4)*np.dot(omega, grad1)\n",
    "    A[4, 8] += 1/sigt*area*np.dot(omega, grad4)*np.dot(omega, grad8)\n",
    "    A[4, 4] += 1/sigt*area*np.dot(omega, grad4)*np.dot(omega, grad4)\n",
    "    \n",
    "    A[1, 1] += 1/48\n",
    "    A[1, 8] += 1/96\n",
    "    A[1, 4] += 1/96\n",
    "    A[8, 1] += 1/96\n",
    "    A[8, 8] += 1/48\n",
    "    A[8, 4] += 1/96\n",
    "    A[4, 1] += 1/96\n",
    "    A[4, 8] += 1/96\n",
    "    A[4, 4] += 1/48\n",
    "    \n",
    "    # Element 2\n",
    "    grad1 = np.array([0, -2])\n",
    "    grad7 = np.array([2, 2])\n",
    "    grad4 = np.array([-2, 0])\n",
    "    \n",
    "    A[1, 1] += 1/sigt*area*np.dot(omega, grad1)*np.dot(omega, grad1)\n",
    "    A[1, 7] += 1/sigt*area*np.dot(omega, grad1)*np.dot(omega, grad7)\n",
    "    A[1, 4] += 1/sigt*area*np.dot(omega, grad1)*np.dot(omega, grad4)\n",
    "    A[7, 1] += 1/sigt*area*np.dot(omega, grad7)*np.dot(omega, grad1)\n",
    "    A[7, 7] += 1/sigt*area*np.dot(omega, grad7)*np.dot(omega, grad7)\n",
    "    A[7, 4] += 1/sigt*area*np.dot(omega, grad7)*np.dot(omega, grad4)\n",
    "    A[4, 1] += 1/sigt*area*np.dot(omega, grad4)*np.dot(omega, grad1)\n",
    "    A[4, 7] += 1/sigt*area*np.dot(omega, grad4)*np.dot(omega, grad7)\n",
    "    A[4, 4] += 1/sigt*area*np.dot(omega, grad4)*np.dot(omega, grad4)\n",
    "    \n",
    "    A[1, 1] += 1/48\n",
    "    A[1, 7] += 1/96\n",
    "    A[1, 4] += 1/96\n",
    "    A[7, 1] += 1/96\n",
    "    A[7, 7] += 1/48\n",
    "    A[7, 4] += 1/96\n",
    "    A[4, 1] += 1/96\n",
    "    A[4, 7] += 1/96\n",
    "    A[4, 4] += 1/48\n",
    "    \n",
    "    #Element 3\n",
    "    grad2 = np.array([0, 2])\n",
    "    grad7 = np.array([2, -2])\n",
    "    grad4 = np.array([-2, 0])\n",
    "    \n",
    "    A[2, 2] += 1/sigt*area*np.dot(omega, grad2)*np.dot(omega, grad2)\n",
    "    A[2, 7] += 1/sigt*area*np.dot(omega, grad2)*np.dot(omega, grad7)\n",
    "    A[2, 4] += 1/sigt*area*np.dot(omega, grad2)*np.dot(omega, grad4)\n",
    "    A[7, 2] += 1/sigt*area*np.dot(omega, grad7)*np.dot(omega, grad2)\n",
    "    A[7, 7] += 1/sigt*area*np.dot(omega, grad7)*np.dot(omega, grad7)\n",
    "    A[7, 4] += 1/sigt*area*np.dot(omega, grad7)*np.dot(omega, grad4)\n",
    "    A[4, 2] += 1/sigt*area*np.dot(omega, grad4)*np.dot(omega, grad2)\n",
    "    A[4, 7] += 1/sigt*area*np.dot(omega, grad4)*np.dot(omega, grad7)\n",
    "    A[4, 4] += 1/sigt*area*np.dot(omega, grad4)*np.dot(omega, grad4)\n",
    "    \n",
    "    A[2, 2] += 1/48\n",
    "    A[2, 7] += 1/96\n",
    "    A[2, 4] += 1/96\n",
    "    A[7, 2] += 1/96\n",
    "    A[7, 7] += 1/48\n",
    "    A[7, 4] += 1/96\n",
    "    A[4, 2] += 1/96\n",
    "    A[4, 7] += 1/96\n",
    "    A[4, 4] += 1/48\n",
    "    \n",
    "    # Element 4\n",
    "    grad2 = np.array([2, 0])\n",
    "    grad6 = np.array([-2, 2])\n",
    "    grad4 = np.array([0, -2])\n",
    "    \n",
    "    A[2, 2] += 1/sigt*area*np.dot(omega, grad2)*np.dot(omega, grad2)\n",
    "    A[2, 6] += 1/sigt*area*np.dot(omega, grad2)*np.dot(omega, grad6)\n",
    "    A[2, 4] += 1/sigt*area*np.dot(omega, grad2)*np.dot(omega, grad4)\n",
    "    A[6, 2] += 1/sigt*area*np.dot(omega, grad6)*np.dot(omega, grad2)\n",
    "    A[6, 6] += 1/sigt*area*np.dot(omega, grad6)*np.dot(omega, grad6)\n",
    "    A[6, 4] += 1/sigt*area*np.dot(omega, grad6)*np.dot(omega, grad4)\n",
    "    A[4, 2] += 1/sigt*area*np.dot(omega, grad4)*np.dot(omega, grad2)\n",
    "    A[4, 6] += 1/sigt*area*np.dot(omega, grad4)*np.dot(omega, grad6)\n",
    "    A[4, 4] += 1/sigt*area*np.dot(omega, grad4)*np.dot(omega, grad4)\n",
    "    \n",
    "    A[2, 2] += 1/48\n",
    "    A[2, 6] += 1/96\n",
    "    A[2, 4] += 1/96\n",
    "    A[6, 2] += 1/96\n",
    "    A[6, 6] += 1/48\n",
    "    A[6, 4] += 1/96\n",
    "    A[4, 2] += 1/96\n",
    "    A[4, 6] += 1/96\n",
    "    A[4, 4] += 1/48\n",
    "    \n",
    "    # Element 5\n",
    "    grad3 = np.array([-2, 0])\n",
    "    grad6 = np.array([2, 2])\n",
    "    grad4 = np.array([0, -2])\n",
    "    \n",
    "    A[3, 3] += 1/sigt*area*np.dot(omega, grad3)*np.dot(omega, grad3)\n",
    "    A[3, 6] += 1/sigt*area*np.dot(omega, grad3)*np.dot(omega, grad6)\n",
    "    A[3, 4] += 1/sigt*area*np.dot(omega, grad3)*np.dot(omega, grad4)\n",
    "    A[6, 3] += 1/sigt*area*np.dot(omega, grad6)*np.dot(omega, grad3)\n",
    "    A[6, 6] += 1/sigt*area*np.dot(omega, grad6)*np.dot(omega, grad6)\n",
    "    A[6, 4] += 1/sigt*area*np.dot(omega, grad6)*np.dot(omega, grad4)\n",
    "    A[4, 3] += 1/sigt*area*np.dot(omega, grad4)*np.dot(omega, grad3)\n",
    "    A[4, 6] += 1/sigt*area*np.dot(omega, grad4)*np.dot(omega, grad6)\n",
    "    A[4, 4] += 1/sigt*area*np.dot(omega, grad4)*np.dot(omega, grad4)\n",
    "    \n",
    "    A[3, 3] += 1/48\n",
    "    A[3, 6] += 1/96\n",
    "    A[3, 4] += 1/96\n",
    "    A[6, 3] += 1/96\n",
    "    A[6, 6] += 1/48\n",
    "    A[6, 4] += 1/96\n",
    "    A[4, 3] += 1/96\n",
    "    A[4, 6] += 1/96\n",
    "    A[4, 4] += 1/48\n",
    "    \n",
    "    # Element 6\n",
    "    grad3 = np.array([0, 2])\n",
    "    grad5 = np.array([-2, -2])\n",
    "    grad4 = np.array([2, 0])\n",
    "    \n",
    "    A[3, 3] += 1/sigt*area*np.dot(omega, grad3)*np.dot(omega, grad3)\n",
    "    A[3, 5] += 1/sigt*area*np.dot(omega, grad3)*np.dot(omega, grad5)\n",
    "    A[3, 4] += 1/sigt*area*np.dot(omega, grad3)*np.dot(omega, grad4)\n",
    "    A[5, 3] += 1/sigt*area*np.dot(omega, grad5)*np.dot(omega, grad3)\n",
    "    A[5, 5] += 1/sigt*area*np.dot(omega, grad5)*np.dot(omega, grad5)\n",
    "    A[5, 4] += 1/sigt*area*np.dot(omega, grad5)*np.dot(omega, grad4)\n",
    "    A[4, 3] += 1/sigt*area*np.dot(omega, grad4)*np.dot(omega, grad3)\n",
    "    A[4, 5] += 1/sigt*area*np.dot(omega, grad4)*np.dot(omega, grad5)\n",
    "    A[4, 4] += 1/sigt*area*np.dot(omega, grad4)*np.dot(omega, grad4)\n",
    "    \n",
    "    A[3, 3] += 1/48\n",
    "    A[3, 5] += 1/96\n",
    "    A[3, 4] += 1/96\n",
    "    A[5, 3] += 1/96\n",
    "    A[5, 5] += 1/48\n",
    "    A[5, 4] += 1/96\n",
    "    A[4, 3] += 1/96\n",
    "    A[4, 5] += 1/96\n",
    "    A[4, 4] += 1/48\n",
    "    \n",
    "    # Element 7\n",
    "    grad0 = np.array([0, -2])\n",
    "    grad5 = np.array([-2, 2])\n",
    "    grad4 = np.array([2, 0])\n",
    "    \n",
    "    A[0, 0] += 1/sigt*area*np.dot(omega, grad0)*np.dot(omega, grad0)\n",
    "    A[0, 5] += 1/sigt*area*np.dot(omega, grad0)*np.dot(omega, grad5)\n",
    "    A[0, 4] += 1/sigt*area*np.dot(omega, grad0)*np.dot(omega, grad4)\n",
    "    A[5, 0] += 1/sigt*area*np.dot(omega, grad5)*np.dot(omega, grad0)\n",
    "    A[5, 5] += 1/sigt*area*np.dot(omega, grad5)*np.dot(omega, grad5)\n",
    "    A[5, 4] += 1/sigt*area*np.dot(omega, grad5)*np.dot(omega, grad4)\n",
    "    A[4, 0] += 1/sigt*area*np.dot(omega, grad4)*np.dot(omega, grad0)\n",
    "    A[4, 5] += 1/sigt*area*np.dot(omega, grad4)*np.dot(omega, grad5)\n",
    "    A[4, 4] += 1/sigt*area*np.dot(omega, grad4)*np.dot(omega, grad4)\n",
    "    \n",
    "    A[0, 0] += 1/48\n",
    "    A[0, 5] += 1/96\n",
    "    A[0, 4] += 1/96\n",
    "    A[5, 0] += 1/96\n",
    "    A[5, 5] += 1/48\n",
    "    A[5, 4] += 1/96\n",
    "    A[4, 0] += 1/96\n",
    "    A[4, 5] += 1/96\n",
    "    A[4, 4] += 1/48\n",
    "    \n",
    "    return A"
   ]
  },
  {
   "cell_type": "code",
   "execution_count": 12,
   "metadata": {
    "collapsed": true
   },
   "outputs": [],
   "source": [
    "def boundary_bottom(A, omega):\n",
    "    A[0, 0] += np.abs(omega[0])*1/6\n",
    "    A[0, 8] += np.abs(omega[0])*1/12\n",
    "    A[8, 0] += np.abs(omega[0])*1/12\n",
    "    A[8, 8] += np.abs(omega[0])*1/6\n",
    "    \n",
    "    A[8, 8] += np.abs(omega[0])*1/6\n",
    "    A[8, 1] += np.abs(omega[0])*1/12\n",
    "    A[1, 8] += np.abs(omega[0])*1/12\n",
    "    A[1, 1] += np.abs(omega[0])*1/6\n",
    "    return A"
   ]
  },
  {
   "cell_type": "code",
   "execution_count": 13,
   "metadata": {
    "collapsed": true
   },
   "outputs": [],
   "source": [
    "def boundary_right(A, omega):\n",
    "    A[1, 1] += np.abs(omega[1])*1/6\n",
    "    A[1, 7] += np.abs(omega[1])*1/12\n",
    "    A[7, 1] += np.abs(omega[1])*1/12\n",
    "    A[7, 7] += np.abs(omega[1])*1/6\n",
    "    \n",
    "    A[7, 7] += np.abs(omega[1])*1/6\n",
    "    A[7, 2] += np.abs(omega[1])*1/12\n",
    "    A[2, 7] += np.abs(omega[1])*1/12\n",
    "    A[2, 2] += np.abs(omega[1])*1/6\n",
    "    return A"
   ]
  },
  {
   "cell_type": "code",
   "execution_count": 14,
   "metadata": {
    "collapsed": true
   },
   "outputs": [],
   "source": [
    "def boundary_top(A, omega):\n",
    "    A[2, 2] += np.abs(omega[0])*1/6\n",
    "    A[2, 6] += np.abs(omega[0])*1/12\n",
    "    A[6, 2] += np.abs(omega[0])*1/12\n",
    "    A[6, 6] += np.abs(omega[0])*1/6\n",
    "    \n",
    "    A[6, 6] += np.abs(omega[0])*1/6\n",
    "    A[6, 3] += np.abs(omega[0])*1/12\n",
    "    A[3, 6] += np.abs(omega[0])*1/12\n",
    "    A[3, 3] += np.abs(omega[0])*1/6\n",
    "    return A"
   ]
  },
  {
   "cell_type": "code",
   "execution_count": 15,
   "metadata": {
    "collapsed": true
   },
   "outputs": [],
   "source": [
    "def boundary_left(A, omega):\n",
    "    A[3, 3] += np.abs(omega[1])*1/6\n",
    "    A[3, 5] += np.abs(omega[1])*1/12\n",
    "    A[5, 3] += np.abs(omega[1])*1/12\n",
    "    A[5, 5] += np.abs(omega[1])*1/6\n",
    "    \n",
    "    A[5, 5] += np.abs(omega[1])*1/6\n",
    "    A[5, 0] += np.abs(omega[1])*1/12\n",
    "    A[0, 0] += np.abs(omega[1])*1/12\n",
    "    A[0, 0] += np.abs(omega[1])*1/6\n",
    "    return A"
   ]
  },
  {
   "cell_type": "code",
   "execution_count": 20,
   "metadata": {},
   "outputs": [
    {
     "name": "stdout",
     "output_type": "stream",
     "text": [
      "0.0\n",
      "0.0\n",
      "0.0\n",
      "0.048112525\n"
     ]
    }
   ],
   "source": [
    "omega = np.array([.5773503,.5773503])\n",
    "sigt = 1\n",
    "inv_sigt = 1\n",
    "A = np.zeros((9, 9))\n",
    "print(A[2, 6])\n",
    "#A = cell_contribution(A, omega, inv_sigt)\n",
    "print(A[2, 6])\n",
    "A = boundary_right(A, omega)\n",
    "print(A[2, 6])\n",
    "A = boundary_top(A, omega)\n",
    "print(A[2, 6])"
   ]
  },
  {
   "cell_type": "code",
   "execution_count": 21,
   "metadata": {},
   "outputs": [
    {
     "data": {
      "text/plain": [
       "0.08333333333333333"
      ]
     },
     "execution_count": 21,
     "metadata": {},
     "output_type": "execute_result"
    }
   ],
   "source": [
    "1/12"
   ]
  },
  {
   "cell_type": "code",
   "execution_count": 24,
   "metadata": {},
   "outputs": [
    {
     "data": {
      "text/plain": [
       "0.10566243270259354"
      ]
     },
     "execution_count": 24,
     "metadata": {},
     "output_type": "execute_result"
    }
   ],
   "source": [
    "(-(.5-0)/2*1/np.sqrt(3)+(.5+0)/2)"
   ]
  },
  {
   "cell_type": "code",
   "execution_count": null,
   "metadata": {
    "collapsed": true
   },
   "outputs": [],
   "source": []
  }
 ],
 "metadata": {
  "kernelspec": {
   "display_name": "Python 2",
   "language": "python",
   "name": "python2"
  },
  "language_info": {
   "codemirror_mode": {
    "name": "ipython",
    "version": 2
   },
   "file_extension": ".py",
   "mimetype": "text/x-python",
   "name": "python",
   "nbconvert_exporter": "python",
   "pygments_lexer": "ipython2",
   "version": "2.7.13"
  }
 },
 "nbformat": 4,
 "nbformat_minor": 2
}
