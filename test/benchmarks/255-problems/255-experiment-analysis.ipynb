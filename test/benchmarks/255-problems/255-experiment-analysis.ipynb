{
 "cells": [
  {
   "cell_type": "markdown",
   "metadata": {},
   "source": [
    "A Notebook Containing Analysis of the Experimental Results from my NE255 Class Project"
   ]
  },
  {
   "cell_type": "code",
   "execution_count": 20,
   "metadata": {},
   "outputs": [],
   "source": [
    "import numpy as np\n",
    "import seaborn as sns\n",
    "import pandas as pd"
   ]
  },
  {
   "cell_type": "markdown",
   "metadata": {},
   "source": [
    "## Fuel Moderator Problem"
   ]
  },
  {
   "cell_type": "code",
   "execution_count": 30,
   "metadata": {},
   "outputs": [],
   "source": [
    "# Load Files\n",
    "nda = np.loadtxt(\"nda_mod-uo2.out\")\n",
    "tgnda = np.loadtxt(\"tgnda_mod-uo2.out\")\n",
    "\n",
    "# Calculate Difference\n",
    "rel = []\n",
    "for g in range(7):\n",
    "    rel.append(np.abs(nda[g] - tgnda[g])/np.max(nda[g]))\n",
    "\n",
    "# Make Data Frame\n",
    "dfs = []\n",
    "for g in range(7):\n",
    "    tmp = pd.DataFrame(rel[g], columns=[\"rel_err\"])\n",
    "    tmp[\"group\"]=g+1\n",
    "    dfs.append(tmp)\n",
    "    \n",
    "df = pd.concat(dfs)"
   ]
  },
  {
   "cell_type": "code",
   "execution_count": 31,
   "metadata": {},
   "outputs": [
    {
     "data": {
      "image/png": "[encoded data removed]",
      "text/plain": [
       "<Figure size 432x288 with 1 Axes>"
      ]
     },
     "metadata": {},
     "output_type": "display_data"
    }
   ],
   "source": [
    "g = sns.boxplot(data=df, x=\"group\", y=\"rel_err\")\n",
    "plt.ylabel(\"Relative Error\")\n",
    "plt.xlabel(\"Group Number\")\n",
    "plt.ticklabel_format(style='sci', axis='y', useMathText=True, scilimits=(0,1))\n",
    "plt.title(\"Relative Difference in Flux NDA vs. TG-NDA\")\n",
    "g.set_yscale('log')"
   ]
  },
  {
   "cell_type": "code",
   "execution_count": 35,
   "metadata": {},
   "outputs": [],
   "source": [
    "fig = g.get_figure()\n",
    "fig.savefig(\"relative_error.png\")"
   ]
  },
  {
   "cell_type": "markdown",
   "metadata": {},
   "source": [
    "### Difference in Eigenvalue"
   ]
  },
  {
   "cell_type": "code",
   "execution_count": 33,
   "metadata": {},
   "outputs": [
    {
     "data": {
      "text/plain": [
       "7.778331581335496e-07"
      ]
     },
     "execution_count": 33,
     "metadata": {},
     "output_type": "execute_result"
    }
   ],
   "source": [
    "tgnda_eig = 0.23184865282446285\n",
    "nda_eig = 0.23184883316417296\n",
    "np.abs(tgnda_eig - nda_eig)/nda_eig"
   ]
  },
  {
   "cell_type": "code",
   "execution_count": null,
   "metadata": {},
   "outputs": [],
   "source": []
  }
 ],
 "metadata": {
  "kernelspec": {
   "display_name": "Python 3",
   "language": "python",
   "name": "python3"
  },
  "language_info": {
   "codemirror_mode": {
    "name": "ipython",
    "version": 3
   },
   "file_extension": ".py",
   "mimetype": "text/x-python",
   "name": "python",
   "nbconvert_exporter": "python",
   "pygments_lexer": "ipython3",
   "version": "3.6.5"
  }
 },
 "nbformat": 4,
 "nbformat_minor": 2
}
