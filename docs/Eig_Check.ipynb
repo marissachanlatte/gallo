{
 "cells": [
  {
   "cell_type": "code",
   "execution_count": 154,
   "metadata": {},
   "outputs": [],
   "source": [
    "import numpy as np\n",
    "from scipy.sparse import diags\n",
    "from scipy.linalg import block_diag\n",
    "import matplotlib.pyplot as plt"
   ]
  },
  {
   "cell_type": "markdown",
   "metadata": {},
   "source": [
    "Checking Power Iteration with 1D FV with 1D Analytical Solution"
   ]
  },
  {
   "cell_type": "markdown",
   "metadata": {},
   "source": [
    "#### FVM Diffusion"
   ]
  },
  {
   "cell_type": "code",
   "execution_count": 134,
   "metadata": {},
   "outputs": [],
   "source": [
    "def make_linear_system(h, D, siga, x0, xn, nu, sigf, phi):\n",
    "    \"\"\"For a 1d system with boundaries x0 and xn and mesh cells of size h, returns a finite volume linear system, Ax = b\"\"\"\n",
    "    n = int((xn - x0)/h - 1)\n",
    "    main_diag = 2*D/h**2 + siga\n",
    "    off_diag = -D/h**2\n",
    "\n",
    "    b = nu*sigf*phi \n",
    "    A = diags([off_diag, main_diag, off_diag], [-1, 0, 1], shape=(n, n)).toarray()\n",
    "    \n",
    "    return A, b\n",
    "\n",
    "def make_rhs(nu, sigf, phi):\n",
    "    return nu*sigf*phi \n",
    "    \n",
    "def integrate_flux(f_new, h):\n",
    "    return np.sum(f_new)*h\n",
    "\n",
    "def solve_outer(h, D, siga, x0, xn, nu, sigf, phi):\n",
    "    A, b = make_linear_system(h, D, siga, x0, xn, nu, sigf, phi)\n",
    "    return np.linalg.solve(A, b)"
   ]
  },
  {
   "cell_type": "markdown",
   "metadata": {},
   "source": [
    "Problem Set Up "
   ]
  },
  {
   "cell_type": "code",
   "execution_count": 137,
   "metadata": {},
   "outputs": [],
   "source": [
    "h = 0.\n",
    "x0 = 0\n",
    "xn = 1 # a\n",
    "siga = 1\n",
    "sigf = 1\n",
    "D = 1/(3*(siga + sigf))\n",
    "nu = 1\n",
    "\n",
    "num_nodes = int((xn - x0)/h - 1)"
   ]
  },
  {
   "cell_type": "markdown",
   "metadata": {},
   "source": [
    "Analytic Solution\n",
    "\n",
    "$$ k = \\frac{nu \\Sigma_f }{\\Sigma_a+ D \\frac{\\pi^2}{a^2}}$$"
   ]
  },
  {
   "cell_type": "code",
   "execution_count": 143,
   "metadata": {},
   "outputs": [],
   "source": [
    "analytic_solution = nu*sigf/(siga + D*np.pi**2/xn**2)"
   ]
  },
  {
   "cell_type": "code",
   "execution_count": 148,
   "metadata": {},
   "outputs": [],
   "source": [
    "def power_iteration(h, D, siga, x0, xn, nu, sigf, tol=1e-3):\n",
    "    num_nodes = int((xn - x0)/h - 1)\n",
    "    k = 1\n",
    "    phi = np.ones(num_nodes)\n",
    "    fiss_source = make_rhs(nu, sigf, phi) \n",
    "    int_fiss = integrate_flux(fiss_source, h)\n",
    "    err = 1\n",
    "    while err > tol:\n",
    "        phi_new = solve_outer(h, D, siga, x0, xn, nu, sigf, 1/k*phi)\n",
    "        fiss_source_new = make_rhs(nu, sigf, phi_new) \n",
    "        int_fiss_new = integrate_flux(fiss_source_new, h) # Integrate Fission Source\n",
    "        k_new = k*(int_fiss_new/int_fiss)\n",
    "        err_k = np.linalg.norm((k_new - k)/k_new)\n",
    "        err_phi = np.linalg.norm((phi_new - phi)/phi_new)\n",
    "        err = max(err_k, err_phi)\n",
    "        int_fiss = np.copy(int_fiss_new)\n",
    "        phi = np.copy(phi_new)\n",
    "        k = np.copy(k_new)\n",
    "    return k"
   ]
  },
  {
   "cell_type": "markdown",
   "metadata": {},
   "source": [
    "Check Relative Error Between PI and Analytic Solution"
   ]
  },
  {
   "cell_type": "code",
   "execution_count": 167,
   "metadata": {},
   "outputs": [
    {
     "data": {
      "text/plain": [
       "Text(0.5,1,'Power Iteration Convergence Plot')"
      ]
     },
     "execution_count": 167,
     "metadata": {},
     "output_type": "execute_result"
    },
    {
     "data": {
      "image/png": "[encoded data removed]",
      "text/plain": [
       "<Figure size 432x288 with 1 Axes>"
      ]
     },
     "metadata": {},
     "output_type": "display_data"
    }
   ],
   "source": [
    "k = []\n",
    "meshes = np.array([.1, 0.05, 0.01])\n",
    "for h in meshes:\n",
    "    k.append(power_iteration(h, D, siga, x0, xn, nu, sigf, tol=1e-3))\n",
    "k = np.array(k)\n",
    "rel_error = (k - analytic_solution)/k\n",
    "cells = (xn - x0)/meshes\n",
    "plt.loglog(cells, rel_error, linestyle=\"--\", marker='o', label=\"Relative Error\")\n",
    "plt.loglog(cells, nodes**(-2), label=\"Second Order Convergence\")\n",
    "plt.legend()\n",
    "plt.xlabel(\"Number of Cells\")\n",
    "plt.ylabel(\"Relative Error\")\n",
    "plt.title(\"Power Iteration Convergence Plot\")"
   ]
  },
  {
   "cell_type": "markdown",
   "metadata": {},
   "source": [
    "2D Finite Difference System"
   ]
  },
  {
   "cell_type": "code",
   "execution_count": 81,
   "metadata": {},
   "outputs": [],
   "source": [
    "def make_linear_system_fd(h, D, siga, x0, xn, nu, sigf, phi):\n",
    "    \"\"\"For a 1d system with boundaries x0 and xn and mesh cells of size h, \n",
    "    returns a finite difference linear system, Ax = b\"\"\"\n",
    "    n = int((xn - x0)/h - 1)\n",
    "    main_diag = 4*D/h**2 + siga\n",
    "    off_diag = -D/h**2\n",
    "    \n",
    "    # Make Block Diagonal\n",
    "    a = diags([off_diag, main_diag, off_diag], [-1, 0, 1], shape=(n, n)).toarray()\n",
    "    repeat = [a]*n\n",
    "    A = block_diag(*repeat)\n",
    "    \n",
    "    # Add terms off diagonal\n",
    "    A += diags([off_diag, off_diag], [-n, n], shape=(n**2, n**2)).toarray()\n",
    "    \n",
    "    b = nu*sigf*phi\n",
    "    \n",
    "    return A, b"
   ]
  },
  {
   "cell_type": "code",
   "execution_count": null,
   "metadata": {},
   "outputs": [],
   "source": []
  }
 ],
 "metadata": {
  "kernelspec": {
   "display_name": "Python 3",
   "language": "python",
   "name": "python3"
  },
  "language_info": {
   "codemirror_mode": {
    "name": "ipython",
    "version": 3
   },
   "file_extension": ".py",
   "mimetype": "text/x-python",
   "name": "python",
   "nbconvert_exporter": "python",
   "pygments_lexer": "ipython3",
   "version": "3.6.5"
  }
 },
 "nbformat": 4,
 "nbformat_minor": 2
}
