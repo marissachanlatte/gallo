{
 "cells": [
  {
   "cell_type": "code",
   "execution_count": 1,
   "metadata": {},
   "outputs": [
    {
     "ename": "ImportError",
     "evalue": "cannot import name 'plot_1d'",
     "output_type": "error",
     "traceback": [
      "\u001b[0;31m---------------------------------------------------------------------------\u001b[0m",
      "\u001b[0;31mImportError\u001b[0m                               Traceback (most recent call last)",
      "\u001b[0;32m<ipython-input-1-3be77bc5cb6d>\u001b[0m in \u001b[0;36m<module>\u001b[0;34m()\u001b[0m\n\u001b[1;32m     12\u001b[0m \u001b[0;32mfrom\u001b[0m \u001b[0mmaterials\u001b[0m \u001b[0;32mimport\u001b[0m \u001b[0mMaterials\u001b[0m\u001b[0;34m\u001b[0m\u001b[0m\n\u001b[1;32m     13\u001b[0m \u001b[0;32mfrom\u001b[0m \u001b[0mproblem\u001b[0m \u001b[0;32mimport\u001b[0m \u001b[0mProblem\u001b[0m\u001b[0;34m\u001b[0m\u001b[0m\n\u001b[0;32m---> 14\u001b[0;31m \u001b[0;32mfrom\u001b[0m \u001b[0mplot\u001b[0m \u001b[0;32mimport\u001b[0m \u001b[0mplot\u001b[0m\u001b[0;34m,\u001b[0m \u001b[0mplot_1d\u001b[0m\u001b[0;34m\u001b[0m\u001b[0m\n\u001b[0m\u001b[1;32m     15\u001b[0m \u001b[0;32mfrom\u001b[0m \u001b[0msolvers\u001b[0m \u001b[0;32mimport\u001b[0m \u001b[0mSolver\u001b[0m\u001b[0;34m\u001b[0m\u001b[0m\n",
      "\u001b[0;31mImportError\u001b[0m: cannot import name 'plot_1d'"
     ]
    }
   ],
   "source": [
    "import numpy as np\n",
    "import scipy.sparse as sps\n",
    "import scipy.sparse.linalg as linalg\n",
    "import matplotlib.pyplot as plt\n",
    "import sys\n",
    "sys.path.append('../src')\n",
    "\n",
    "from formulations.nda import NDA\n",
    "from formulations.saaf import SAAF\n",
    "from formulations.diffusion import Diffusion\n",
    "from fe import *\n",
    "from materials import Materials\n",
    "from problem import Problem\n",
    "from plot import plot, plot_1d\n",
    "from solvers import Solver"
   ]
  },
  {
   "cell_type": "markdown",
   "metadata": {},
   "source": [
    "## Setup Problem"
   ]
  },
  {
   "cell_type": "code",
   "execution_count": null,
   "metadata": {},
   "outputs": [],
   "source": [
    "mesh = 'symmetric-8'\n",
    "mat = 'scattering1g'"
   ]
  },
  {
   "cell_type": "code",
   "execution_count": null,
   "metadata": {},
   "outputs": [],
   "source": [
    "nodefile = \"../test/test_inputs/\" + mesh + \".node\"\n",
    "elefile = \"../test/test_inputs/\" + mesh + \".ele\"\n",
    "matfile = \"../test/test_inputs/\" + mat + \".mat\"\n",
    "grid = FEGrid(nodefile, elefile)\n",
    "mats = Materials(matfile)\n",
    "num_elts = grid.get_num_elts()\n",
    "num_groups = mats.get_num_groups()\n",
    "source = np.ones((num_groups, num_elts))"
   ]
  },
  {
   "cell_type": "markdown",
   "metadata": {},
   "source": [
    "### Diffusion"
   ]
  },
  {
   "cell_type": "code",
   "execution_count": null,
   "metadata": {},
   "outputs": [],
   "source": [
    "op = Diffusion(grid, mats)\n",
    "solver = Solver(op)"
   ]
  },
  {
   "cell_type": "code",
   "execution_count": null,
   "metadata": {},
   "outputs": [],
   "source": [
    "diffusion_phis = solver.solve(source)"
   ]
  },
  {
   "cell_type": "markdown",
   "metadata": {},
   "source": [
    "### NDA"
   ]
  },
  {
   "cell_type": "code",
   "execution_count": null,
   "metadata": {},
   "outputs": [],
   "source": [
    "op = NDA(grid, mats)\n",
    "solver = Solver(op)"
   ]
  },
  {
   "cell_type": "code",
   "execution_count": null,
   "metadata": {},
   "outputs": [],
   "source": [
    "nda_phis = solver.solve(source)"
   ]
  },
  {
   "cell_type": "markdown",
   "metadata": {},
   "source": [
    "### SAAF"
   ]
  },
  {
   "cell_type": "code",
   "execution_count": null,
   "metadata": {},
   "outputs": [],
   "source": [
    "op = SAAF(grid, mats)\n",
    "solver = Solver(op)"
   ]
  },
  {
   "cell_type": "code",
   "execution_count": null,
   "metadata": {},
   "outputs": [],
   "source": [
    "saaf_phis = solver.solve(source)"
   ]
  },
  {
   "cell_type": "markdown",
   "metadata": {},
   "source": [
    "### Fix y to plot 1d solution"
   ]
  },
  {
   "cell_type": "code",
   "execution_count": null,
   "metadata": {},
   "outputs": [],
   "source": [
    "y = 0.5"
   ]
  },
  {
   "cell_type": "code",
   "execution_count": null,
   "metadata": {},
   "outputs": [],
   "source": [
    "diff_points = plot_1d(grid, diffusion_phis[0], y, 'x', display=True)\n",
    "nda_points = plot_1d(grid, nda_phis[0], y, 'x', display=True)\n",
    "saaf_points = plot_1d(grid, saaf_phis[0][0], y, 'x', display=True)"
   ]
  },
  {
   "cell_type": "code",
   "execution_count": null,
   "metadata": {},
   "outputs": [],
   "source": [
    "plt.plot(diff_points[:, 0], diff_points[:, 1], label='diffusion')\n",
    "plt.plot(nda_points[:, 0], nda_points[:, 1], label='nda')\n",
    "plt.plot(saaf_points[:, 0], saaf_points[:, 1], label='saaf')\n",
    "plt.legend()\n",
    "plt.title(\"Scattering1g Solution at y=0.5\")\n",
    "plt.show()\n"
   ]
  },
  {
   "cell_type": "markdown",
   "metadata": {},
   "source": [
    "# Compare Coarser Mesh to Fine Mesh"
   ]
  },
  {
   "cell_type": "code",
   "execution_count": null,
   "metadata": {},
   "outputs": [],
   "source": [
    "mesh = 'symmetric-10'\n",
    "mat = 'noscatter'"
   ]
  },
  {
   "cell_type": "code",
   "execution_count": null,
   "metadata": {},
   "outputs": [],
   "source": [
    "nodefile = \"../test/test_inputs/\" + mesh + \".node\"\n",
    "elefile = \"../test/test_inputs/\" + mesh + \".ele\"\n",
    "matfile = \"../test/test_inputs/\" + mat + \".mat\"\n",
    "grid = FEGrid(nodefile, elefile)\n",
    "mats = Materials(matfile)\n",
    "num_elts = grid.get_num_elts()\n",
    "num_groups = mats.get_num_groups()\n",
    "source = np.ones((num_groups, num_elts))"
   ]
  },
  {
   "cell_type": "markdown",
   "metadata": {},
   "source": [
    "### NDA"
   ]
  },
  {
   "cell_type": "code",
   "execution_count": null,
   "metadata": {},
   "outputs": [],
   "source": [
    "op = NDA(grid, mats)\n",
    "solver = Solver(op)"
   ]
  },
  {
   "cell_type": "code",
   "execution_count": null,
   "metadata": {},
   "outputs": [],
   "source": [
    "nda_phis = solver.solve(source)"
   ]
  },
  {
   "cell_type": "markdown",
   "metadata": {},
   "source": [
    "### SAAF"
   ]
  },
  {
   "cell_type": "code",
   "execution_count": null,
   "metadata": {},
   "outputs": [],
   "source": [
    "op = SAAF(grid, mats)\n",
    "solver = Solver(op)"
   ]
  },
  {
   "cell_type": "code",
   "execution_count": null,
   "metadata": {},
   "outputs": [],
   "source": [
    "saaf_phis = solver.solve(source)"
   ]
  },
  {
   "cell_type": "markdown",
   "metadata": {},
   "source": [
    "### Calculate Absorption Rate"
   ]
  },
  {
   "cell_type": "code",
   "execution_count": null,
   "metadata": {},
   "outputs": [],
   "source": [
    "def calculate_absorption(grid, mats, phi, group_id):\n",
    "    triang = grid.setup_triangulation()\n",
    "    integral = 0\n",
    "    for elt in range(grid.num_elts):\n",
    "        midx = grid.get_mat_id(elt)\n",
    "        sig_a = mats.get_siga(midx, group_id)\n",
    "        g_nodes = grid.gauss_nodes(elt)\n",
    "        phi_vals = grid.phi_at_gauss_nodes(triang, phi, g_nodes)\n",
    "        integral += grid.gauss_quad(elt, sig_a*phi_vals[0])\n",
    "    return integral"
   ]
  },
  {
   "cell_type": "code",
   "execution_count": null,
   "metadata": {},
   "outputs": [],
   "source": [
    "nda_abs = calculate_absorption(grid, mats, nda_phis, 0)\n",
    "nda_abs"
   ]
  },
  {
   "cell_type": "code",
   "execution_count": null,
   "metadata": {},
   "outputs": [],
   "source": [
    "saaf_abs = calculate_absorption(grid, mats, saaf_phis[0], 0)\n",
    "saaf_abs"
   ]
  },
  {
   "cell_type": "markdown",
   "metadata": {},
   "source": [
    "## Compare SAAF & NDA as Mesh refines"
   ]
  },
  {
   "cell_type": "code",
   "execution_count": null,
   "metadata": {},
   "outputs": [],
   "source": [
    "x = np.arange(4, 10)\n",
    "err = []\n",
    "for mesh in x:\n",
    "    # Choose Input\n",
    "    mesh = 'symmetric-%s' % (str(mesh))\n",
    "    mat = 'scattering1g'\n",
    "\n",
    "    # Setup Problem\n",
    "    nodefile = \"../test/test_inputs/\" + mesh + \".node\"\n",
    "    elefile = \"../test/test_inputs/\" + mesh + \".ele\"\n",
    "    matfile = \"../test/test_inputs/\" + mat + \".mat\"\n",
    "    grid = FEGrid(nodefile, elefile)\n",
    "    mats = Materials(matfile)\n",
    "    num_elts = grid.get_num_elts()\n",
    "    num_groups = mats.get_num_groups()\n",
    "    source = np.ones((num_groups, num_elts))\n",
    "\n",
    "    # Solve NDA\n",
    "    op = NDA(grid, mats)\n",
    "    solver = Solver(op)\n",
    "    nda_phis = solver.solve(source)\n",
    "\n",
    "    # Solve SAAF\n",
    "    op = SAAF(grid, mats)\n",
    "    solver = Solver(op)\n",
    "    saaf_phis = solver.solve(source)\n",
    "\n",
    "    # Compute Difference\n",
    "    err.append(np.max(np.abs(nda_phis[0] - saaf_phis[0][0])))\n",
    "err = np.array(err)\n",
    "err"
   ]
  },
  {
   "cell_type": "code",
   "execution_count": null,
   "metadata": {},
   "outputs": [],
   "source": [
    "x = np.arange(4, 11)\n",
    "err = np.array()"
   ]
  },
  {
   "cell_type": "code",
   "execution_count": null,
   "metadata": {},
   "outputs": [],
   "source": [
    "plt.plot(x, err, linestyle=\"--\", marker='o')\n",
    "plt.show()"
   ]
  },
  {
   "cell_type": "code",
   "execution_count": null,
   "metadata": {},
   "outputs": [],
   "source": [
    "array([0.10806554, 0.11322092, 0.12015502, 0.12275716, 0.1220332 ,\n",
    "       0.1240399 , 0.12415516])"
   ]
  }
 ],
 "metadata": {
  "kernelspec": {
   "display_name": "Python 3",
   "language": "python",
   "name": "python3"
  },
  "language_info": {
   "codemirror_mode": {
    "name": "ipython",
    "version": 3
   },
   "file_extension": ".py",
   "mimetype": "text/x-python",
   "name": "python",
   "nbconvert_exporter": "python",
   "pygments_lexer": "ipython3",
   "version": "3.6.5"
  }
 },
 "nbformat": 4,
 "nbformat_minor": 2
}
