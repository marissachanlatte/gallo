{
 "cells": [
  {
   "cell_type": "code",
   "execution_count": 2,
   "metadata": {},
   "outputs": [],
   "source": [
    "import numpy as np\n",
    "import pandas as pd"
   ]
  },
  {
   "cell_type": "markdown",
   "metadata": {},
   "source": [
    "# Timing Results for Gallo Test Problems"
   ]
  },
  {
   "cell_type": "markdown",
   "metadata": {},
   "source": [
    "## Problem 1, No Scattering"
   ]
  },
  {
   "cell_type": "markdown",
   "metadata": {},
   "source": [
    "Input Files:  \n",
    "   * material - noscatter   \n",
    "   * geometry - symmetric_fine   \n",
    "\n",
    "Problem Specifications:   \n",
    "One group, $\\Sigma_t = 10, \\Sigma_a = 10$. Domain $[0, 1]$ square, 256 triangular mesh cells. \n",
    "\n",
    "Each method was run three times and averaged. GS tol was 1e-4, SI norm was 1e-3."
   ]
  },
  {
   "cell_type": "code",
   "execution_count": 2,
   "metadata": {},
   "outputs": [
    {
     "name": "stdout",
     "output_type": "stream",
     "text": [
      "           Runtime (s)\n",
      "Diffusion     0.493307\n",
      "SAAF          2.352760\n",
      "NDA           4.377660\n"
     ]
    }
   ],
   "source": [
    "diffusion = np.array([0.4805, 0.49548, 0.50394 ])\n",
    "d_avg = np.mean(diffusion)\n",
    "saaf = np.array([2.35484, 2.29007, 2.41337])\n",
    "s_avg = np.mean(saaf)\n",
    "nda = np.array([4.37756, 4.31935, 4.43607])\n",
    "n_avg = np.mean(nda)\n",
    "d = {'Diffusion': [d_avg], 'SAAF': [s_avg], 'NDA': [n_avg]}\n",
    "df = pd.DataFrame(data=d)\n",
    "df = df.rename(index={0:'Runtime (s)'})\n",
    "print(df.T)"
   ]
  },
  {
   "cell_type": "markdown",
   "metadata": {},
   "source": [
    "## Problem 2, One Group Scattering"
   ]
  },
  {
   "cell_type": "markdown",
   "metadata": {},
   "source": [
    "Input Files:  \n",
    "    * material - scattering1g\n",
    "    * geometry - symmetric_fine\n",
    "\n",
    "Problem Specifications:\n",
    "    One group, $\\Sigma_t = 10, \\Sigma_a = 2, \\Sigma_s = 8$. Domain $[0, 1]$ square, 256 triangular mesh cells."
   ]
  },
  {
   "cell_type": "code",
   "execution_count": 3,
   "metadata": {},
   "outputs": [
    {
     "name": "stdout",
     "output_type": "stream",
     "text": [
      "           Runtime (s)\n",
      "Diffusion     0.980373\n",
      "SAAF         72.871593\n",
      "NDA          12.471863\n"
     ]
    }
   ],
   "source": [
    "nda = np.array([12.24286, 12.06714, 13.10559])\n",
    "n_avg = np.mean(nda)\n",
    "saaf = np.array([75.83388, 71.05848, 71.72242])\n",
    "s_avg = np.mean(saaf)\n",
    "diffusion = np.array([0.96196, 1.01515, 0.96401])\n",
    "d_avg = np.mean(diffusion)\n",
    "d = {'Diffusion': [d_avg], 'SAAF': [s_avg], 'NDA': [n_avg]}\n",
    "df = pd.DataFrame(data=d)\n",
    "df = df.rename(index={0:'Runtime (s)'})\n",
    "print(df.T)"
   ]
  },
  {
   "cell_type": "markdown",
   "metadata": {},
   "source": [
    "## Problem 3, Multigroup Scattering"
   ]
  },
  {
   "cell_type": "markdown",
   "metadata": {},
   "source": [
    "Input Files: \n",
    "    * material - scattering2g\n",
    "    * geometry - origin_centered_fine\n",
    "\n",
    "Problem Specifications: Two groups, Group 1: $\\Sigma_t = 13, \\Sigma_a = 1, \\Sigma_{s, 1\\rightarrow 1} = 11, \\Sigma_{s, 1 \\rightarrow 2} = 1$ Group 2: $\\Sigma_t = 12, \\Sigma_a = 1, \\Sigma_{s, 2 \\rightarrow 2} = 11$. Domain $[-1, 1]$ square, 512 triangular mesh cells."
   ]
  },
  {
   "cell_type": "code",
   "execution_count": 4,
   "metadata": {},
   "outputs": [
    {
     "name": "stdout",
     "output_type": "stream",
     "text": [
      "           Runtime (s)\n",
      "Diffusion     8.939210\n",
      "SAAF        842.066703\n",
      "NDA         156.664237\n"
     ]
    }
   ],
   "source": [
    "nda = np.array([156.69871, 165.61984, 147.67416])\n",
    "n_avg = np.mean(nda)\n",
    "saaf = np.array([777.78501, 897.03152, 851.38358])\n",
    "s_avg = np.mean(saaf)\n",
    "diffusion = np.array([9.23017, 8.82718, 8.76028])\n",
    "d_avg = np.mean(diffusion)\n",
    "d = {'Diffusion': [d_avg], 'SAAF': [s_avg], 'NDA': [n_avg]}\n",
    "df = pd.DataFrame(data=d)\n",
    "df = df.rename(index={0:'Runtime (s)'})\n",
    "print(df.T)"
   ]
  },
  {
   "cell_type": "markdown",
   "metadata": {},
   "source": [
    "## Problem 4, Upscattering"
   ]
  },
  {
   "cell_type": "markdown",
   "metadata": {},
   "source": [
    "Input Files:\n",
    "    * material - simple3g\n",
    "    * geometry - symmetric_fine\n",
    "\n",
    "Problem specifications: Three groups. Group 1: $\\Sigma_t = 13, \\Sigma_a = 1 \\Sigma_{s, 1 \\rightarrow 1} = 10, \\Sigma_{s, 1 \\rightarrow 2} = 1, \\Sigma_{s, 1 \\rightarrow 3} = 1$. Group 2: $\\Sigma_t = 13, \\Sigma_a = 1, \\Sigma_{s, 2 \\rightarrow 1} = 1, \\Sigma_{s, 2 \\rightarrow 2} = 10, \\Sigma_{s, 2 \\rightarrow 3} = 1$. Group 3: $\\Sigma_t = 12, \\Sigma_a = 1, \\Sigma_{s, 3 \\rightarrow 2} = 1, \\Sigma_{s, 3 \\rightarrow 3} = 10. $Domain  $[0,1]$  square, 256 triangular mesh cells."
   ]
  },
  {
   "cell_type": "code",
   "execution_count": 5,
   "metadata": {},
   "outputs": [
    {
     "name": "stdout",
     "output_type": "stream",
     "text": [
      "           Runtime (s)\n",
      "Diffusion    42.032660\n",
      "SAAF       1167.360657\n",
      "NDA         565.724667\n",
      "TG-NDA      418.588853\n"
     ]
    }
   ],
   "source": [
    "nda = np.array([557.02169, 516.44057, 623.71174 ])\n",
    "n_avg = np.mean(nda)\n",
    "nda_upscat = np.array([386.92453, 451.05326, 417.78877])\n",
    "ua_avg = np.mean(nda_upscat)\n",
    "saaf = np.array([1191.8045, 1203.45343, 1106.82404])\n",
    "s_avg = np.mean(saaf)\n",
    "diffusion = np.array([39.30932, 42.91404, 43.87462])\n",
    "d_avg = np.mean(diffusion)\n",
    "d = {'Diffusion': [d_avg], 'SAAF': [s_avg], 'NDA': [n_avg], 'TG-NDA': [ua_avg]}\n",
    "df = pd.DataFrame(data=d)\n",
    "df = df.rename(index={0:'Runtime (s)'})\n",
    "print(df.T)"
   ]
  },
  {
   "cell_type": "markdown",
   "metadata": {},
   "source": [
    "### Problem 5, Moderator\n",
    "Input Files:\n",
    "    * material - fake-mod\n",
    "    * geometry - symmetric_fine\n",
    "7 Groups, 256 mesh cells. Source of 1 everywhere. "
   ]
  },
  {
   "cell_type": "code",
   "execution_count": 10,
   "metadata": {},
   "outputs": [
    {
     "name": "stdout",
     "output_type": "stream",
     "text": [
      "        Runtime (s)  GS Iterations\n",
      "NDA      4516.64312           11.0\n",
      "TG-NDA   3258.36522            7.0\n"
     ]
    }
   ],
   "source": [
    "nda = np.array([4516.64312])\n",
    "n_it = 11\n",
    "n_avg = np.mean(nda)\n",
    "nda_upscat = np.array([3258.36522])\n",
    "ua_avg = np.mean(nda_upscat)\n",
    "ua_it = 7\n",
    "d = {'NDA': [n_avg, n_it], 'TG-NDA': [ua_avg, ua_it]}\n",
    "df = pd.DataFrame(data=d)\n",
    "df = df.rename(index={0:'Runtime (s)'})\n",
    "df = df.rename(index={1:'GS Iterations'})\n",
    "print(df.T)"
   ]
  },
  {
   "cell_type": "markdown",
   "metadata": {},
   "source": [
    "### Problem 6, \"Iron-Water\"\n",
    "Input Files:\n",
    "    * material - fake-iron-water\n",
    "    * geometry - symmetric_fine\n",
    "7 Groups, 256 mesh cells. Source in center. 7 in first group, 2 in second, 1 in third. "
   ]
  },
  {
   "cell_type": "code",
   "execution_count": 3,
   "metadata": {},
   "outputs": [
    {
     "name": "stdout",
     "output_type": "stream",
     "text": [
      "        Runtime (s)  GS Iterations\n",
      "NDA     5287.615583           11.0\n",
      "TG-NDA  2850.482930            7.0\n"
     ]
    }
   ],
   "source": [
    "nda = np.array([4352.18865, 6731.25338, 4779.40472, 4639.51459 ])\n",
    "n_it = 11\n",
    "n_avg = np.mean(nda)\n",
    "nda_upscat = np.array([2850.48293])\n",
    "ua_avg = np.mean(nda_upscat)\n",
    "ua_it = 7\n",
    "d = {'NDA': [n_avg, n_it], 'TG-NDA': [ua_avg, ua_it]}\n",
    "df = pd.DataFrame(data=d)\n",
    "df = df.rename(index={0:'Runtime (s)'})\n",
    "df = df.rename(index={1:'GS Iterations'})\n",
    "print(df.T)"
   ]
  },
  {
   "cell_type": "markdown",
   "metadata": {},
   "source": [
    "### Problem 7, \"Moderator\"\n",
    "Input Files:\n",
    "    * material - c5g7mod\n",
    "    * geometry - origin_centered10\n",
    "7 Groups, 256 mesh cells. Source everywhere."
   ]
  },
  {
   "cell_type": "code",
   "execution_count": 4,
   "metadata": {},
   "outputs": [
    {
     "name": "stdout",
     "output_type": "stream",
     "text": [
      "        Runtime (s)  GS Iterations\n",
      "NDA     14513.23482           31.0\n",
      "TG-NDA   5465.00732            9.0\n"
     ]
    }
   ],
   "source": [
    "nda = np.array([14513.23482])\n",
    "n_it = 31\n",
    "n_avg = np.mean(nda)\n",
    "nda_upscat = np.array([5465.00732])\n",
    "ua_avg = np.mean(nda_upscat)\n",
    "ua_it = 9\n",
    "d = {'NDA': [n_avg, n_it], 'TG-NDA': [ua_avg, ua_it]}\n",
    "df = pd.DataFrame(data=d)\n",
    "df = df.rename(index={0:'Runtime (s)'})\n",
    "df = df.rename(index={1:'GS Iterations'})\n",
    "print(df.T)"
   ]
  },
  {
   "cell_type": "markdown",
   "metadata": {},
   "source": [
    "### Problem 8, \"Iron-Water\"\n",
    "Input Files:\n",
    "    * material - mod-water\n",
    "    * geometry - origin_centered10\n",
    "7 Groups, 256 mesh cells. Source in center. 7 in first group, 2 in second, 1 in third. "
   ]
  },
  {
   "cell_type": "code",
   "execution_count": 4,
   "metadata": {},
   "outputs": [
    {
     "name": "stdout",
     "output_type": "stream",
     "text": [
      "        Runtime (s)  GS Iterations\n",
      "NDA     9865.206800           25.0\n",
      "TG-NDA  4102.306277            8.0\n"
     ]
    }
   ],
   "source": [
    "nda = np.array([9865.2068])\n",
    "n_it = 25\n",
    "n_avg = np.mean(nda)\n",
    "nda_upscat = np.array([3829.80117,4229.4124, 4247.70526 ])\n",
    "ua_avg = np.mean(nda_upscat)\n",
    "ua_it = 8\n",
    "d = {'NDA': [n_avg, n_it], 'TG-NDA': [ua_avg, ua_it]}\n",
    "df = pd.DataFrame(data=d)\n",
    "df = df.rename(index={0:'Runtime (s)'})\n",
    "df = df.rename(index={1:'GS Iterations'})\n",
    "print(df.T)"
   ]
  },
  {
   "cell_type": "code",
   "execution_count": null,
   "metadata": {},
   "outputs": [],
   "source": []
  }
 ],
 "metadata": {
  "kernelspec": {
   "display_name": "Python 2",
   "language": "python",
   "name": "python2"
  },
  "language_info": {
   "codemirror_mode": {
    "name": "ipython",
    "version": 3
   },
   "file_extension": ".py",
   "mimetype": "text/x-python",
   "name": "python",
   "nbconvert_exporter": "python",
   "pygments_lexer": "ipython3",
   "version": "3.6.5"
  }
 },
 "nbformat": 4,
 "nbformat_minor": 2
}
