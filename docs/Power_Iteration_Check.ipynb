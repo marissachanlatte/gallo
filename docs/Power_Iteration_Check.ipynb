{
 "cells": [
  {
   "cell_type": "code",
   "execution_count": 3,
   "metadata": {},
   "outputs": [],
   "source": [
    "import numpy as np\n",
    "import matplotlib.pyplot as plt\n",
    "import matplotlib.tri as tri"
   ]
  },
  {
   "cell_type": "markdown",
   "metadata": {},
   "source": [
    "## SAAF PI Check"
   ]
  },
  {
   "cell_type": "code",
   "execution_count": 4,
   "metadata": {},
   "outputs": [
    {
     "data": {
      "image/png": "[encoded data removed]",
      "text/plain": [
       "<Figure size 432x288 with 1 Axes>"
      ]
     },
     "metadata": {},
     "output_type": "display_data"
    }
   ],
   "source": [
    "x = np.array([0, 1, 1, 0])\n",
    "y = np.array([0, 0, 1, 1])\n",
    "triangles = np.array([[3, 0, 1], [1, 2, 3]])\n",
    "triangulation = tri.Triangulation(x, y, triangles=triangles)\n",
    "plt.triplot(triangulation)\n",
    "plt.scatter(x, y, marker='o')\n",
    "for i in range(4):\n",
    "    plt.annotate(i, (x[i], y[i]))\n",
    "plt.show()"
   ]
  },
  {
   "cell_type": "markdown",
   "metadata": {},
   "source": [
    "## Problem Set Up \n",
    "$\\Omega = [.5773503, .5773503], \\sigma_t = 1, \\frac{1}{\\sigma_t} = 1, \\nu\\sigma_f = 1$"
   ]
  },
  {
   "cell_type": "code",
   "execution_count": 5,
   "metadata": {},
   "outputs": [],
   "source": [
    "def compute_collapsed_fission(phi, nusigf):\n",
    "    interp = tri.LinearTriInterpolator(triangulation, phi) \n",
    "    area = .5\n",
    "    collapsed_fission = 0\n",
    "    ### Element 0\n",
    "    ### Integrate phi by gaussian quadrature 1/3*Area*[f(0, .5) + f(.5, 0) + f(.5, .5)]\n",
    "    phi_integral = 1/3*area*(interp(0, .5) + interp(.5, 0) + interp(.5, .5))\n",
    "    collapsed_fission += nusigf*phi_integral\n",
    "    \n",
    "    ### Element 1\n",
    "    ### Integrate phi by gaussian quadrature 1/3*Area*[f(1, .5) + f(.5, 1) + f(.5, .5)]\n",
    "    phi_integral = 1/3*area*(interp(1, .5) + interp(.5, 1) + interp(.5, .5))\n",
    "    collapsed_fission += nusigf*phi_integral\n",
    "    \n",
    "    return collapsed_fission"
   ]
  },
  {
   "cell_type": "code",
   "execution_count": 12,
   "metadata": {},
   "outputs": [],
   "source": [
    "def make_fission_source(angles, phi, sigt, chi, nusigf):\n",
    "    interp = tri.LinearTriInterpolator(triangulation, phi)\n",
    "    b = np.zeros(4)\n",
    "    # Element 0\n",
    "    ## basis coefficients x, y, c\n",
    "    basis3 = np.array([0, 1, 0])\n",
    "    basis0 = np.array([-1, -1, 1])\n",
    "    basis1 = np.array([1, 0, 0])\n",
    "    gauss_nodes = np.array([[0, .5, 1],\n",
    "                            [.5, 0, 1],\n",
    "                            [.5, .5, 1]])\n",
    "    grad3 = np.array([0, 1])\n",
    "    grad0 = np.array([-1, -1])\n",
    "    grad1 = np.array([1, 0])\n",
    "    area = .5\n",
    "    # Node 3\n",
    "    first_integral = 1/3*area*(interp(0, .5)*np.dot(basis3, gauss_nodes[0]) +\n",
    "                              interp(.5, 0)*np.dot(basis3, gauss_nodes[1]) +\n",
    "                              interp(.5, .5)*np.dot(basis3, gauss_nodes[2]))\n",
    "    b[3] += chi*nusigf*first_integral/(4*np.pi)\n",
    "    second_integral = 1/3*area*(interp(0, .5)*np.dot(angles, grad3) +\n",
    "                               interp(.5, 0)*np.dot(angles, grad3) +\n",
    "                               interp(.5, .5)*np.dot(angles, grad3))\n",
    "    b[3] += 1/sigt*chi*nusigf*second_integral/(4*np.pi)\n",
    "    # Node 0 \n",
    "    first_integral = 1/3*area*(interp(0, .5)*np.dot(basis0, gauss_nodes[0]) +\n",
    "                              interp(.5, 0)*np.dot(basis0, gauss_nodes[1]) +\n",
    "                              interp(.5, .5)*np.dot(basis0, gauss_nodes[2]))\n",
    "    b[0] += chi*nusigf*first_integral/(4*np.pi)\n",
    "    second_integral = 1/3*area*(interp(0, .5)*np.dot(angles, grad0) +\n",
    "                               interp(.5, 0)*np.dot(angles, grad0) +\n",
    "                               interp(.5, .5)*np.dot(angles, grad0))\n",
    "    b[0] += 1/sigt*chi*nusigf*second_integral/(4*np.pi)\n",
    "    # Node 1 \n",
    "    first_integral = 1/3*area*(interp(0, .5)*np.dot(basis1, gauss_nodes[0]) +\n",
    "                              interp(.5, 0)*np.dot(basis1, gauss_nodes[1]) +\n",
    "                              interp(.5, .5)*np.dot(basis1, gauss_nodes[2]))\n",
    "    b[1] += chi*nusigf*first_integral/(4*np.pi)\n",
    "    second_integral = 1/3*area*(interp(0, .5)*np.dot(angles, grad1) +\n",
    "                               interp(.5, 0)*np.dot(angles, grad1) +\n",
    "                               interp(.5, .5)*np.dot(angles, grad1))\n",
    "    b[1] += 1/sigt*chi*nusigf*second_integral/(4*np.pi)\n",
    "    # Element 1\n",
    "    grad1 = np.array([0, -1])\n",
    "    grad2 = np.array([1, 1])\n",
    "    grad3 = np.array([-1, 0])\n",
    "    basis1 = np.array([0, -1, 1])\n",
    "    basis2 = np.array([1, 1, -1])\n",
    "    basis3 = np.array([-1, 0, 1])\n",
    "    gauss_nodes = np.array([[1, .5, 1],\n",
    "                            [.5, 1, 1],\n",
    "                            [.5, .5, 1]])\n",
    "    # Node 1\n",
    "    first_integral = 1/3*area*(interp(1, .5)*np.dot(basis1, gauss_nodes[0]) +\n",
    "                              interp(.5, 1)*np.dot(basis1, gauss_nodes[1]) +\n",
    "                              interp(.5, .5)*np.dot(basis1, gauss_nodes[2]))\n",
    "    b[1] += chi*nusigf*first_integral/(4*np.pi)\n",
    "    second_integral = 1/3*area*(interp(1, .5)*np.dot(angles, grad1) +\n",
    "                               interp(.5, 1)*np.dot(angles, grad1) +\n",
    "                               interp(.5, .5)*np.dot(angles, grad1))\n",
    "    b[1] += 1/sigt*chi*nusigf*second_integral/(4*np.pi)\n",
    "    # Node 2\n",
    "    first_integral = 1/3*area*(interp(1, .5)*np.dot(basis2, gauss_nodes[0]) +\n",
    "                              interp(.5, 1)*np.dot(basis2, gauss_nodes[1]) +\n",
    "                              interp(.5, .5)*np.dot(basis2, gauss_nodes[2]))\n",
    "    b[2] += chi*nusigf*first_integral/(4*np.pi)\n",
    "    second_integral = 1/3*area*(interp(1, .5)*np.dot(angles, grad2) +\n",
    "                               interp(.5, 1)*np.dot(angles, grad2) +\n",
    "                               interp(.5, .5)*np.dot(angles, grad2))\n",
    "    b[2] += 1/sigt*chi*nusigf*second_integral/(4*np.pi)\n",
    "    # Node 3\n",
    "    first_integral = 1/3*area*(interp(1, .5)*np.dot(basis3, gauss_nodes[0]) +\n",
    "                              interp(.5, 1)*np.dot(basis3, gauss_nodes[1]) +\n",
    "                              interp(.5, .5)*np.dot(basis3, gauss_nodes[2]))\n",
    "    b[3] += chi*nusigf*first_integral/(4*np.pi)\n",
    "    second_integral = 1/3*area*(interp(1, .5)*np.dot(angles, grad3) +\n",
    "                               interp(.5, 1)*np.dot(angles, grad3) +\n",
    "                               interp(.5, .5)*np.dot(angles, grad3))\n",
    "    b[3] += 1/sigt*chi*nusigf*second_integral/(4*np.pi)\n",
    "\n",
    "    return b"
   ]
  },
  {
   "cell_type": "code",
   "execution_count": 13,
   "metadata": {},
   "outputs": [
    {
     "data": {
      "text/plain": [
       "1.0"
      ]
     },
     "execution_count": 13,
     "metadata": {},
     "output_type": "execute_result"
    }
   ],
   "source": [
    "phi = np.ones(4)\n",
    "nusigf = 1\n",
    "compute_collapsed_fission(phi, nusigf)"
   ]
  },
  {
   "cell_type": "code",
   "execution_count": 14,
   "metadata": {},
   "outputs": [
    {
     "data": {
      "text/plain": [
       "array([-0.00970913,  0.02652582,  0.03623495,  0.02652582])"
      ]
     },
     "execution_count": 14,
     "metadata": {},
     "output_type": "execute_result"
    }
   ],
   "source": [
    "sigt = 2\n",
    "chi = 1\n",
    "nusigf = 1\n",
    "angles = np.array([.5773503,.5773503])\n",
    "make_fission_source(angles, phi, sigt, chi, nusigf)"
   ]
  },
  {
   "cell_type": "code",
   "execution_count": null,
   "metadata": {},
   "outputs": [],
   "source": []
  }
 ],
 "metadata": {
  "kernelspec": {
   "display_name": "Python 3",
   "language": "python",
   "name": "python3"
  },
  "language_info": {
   "codemirror_mode": {
    "name": "ipython",
    "version": 3
   },
   "file_extension": ".py",
   "mimetype": "text/x-python",
   "name": "python",
   "nbconvert_exporter": "python",
   "pygments_lexer": "ipython3",
   "version": "3.6.5"
  }
 },
 "nbformat": 4,
 "nbformat_minor": 2
}
