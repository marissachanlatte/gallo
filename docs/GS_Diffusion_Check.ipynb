{
 "cells": [
  {
   "cell_type": "code",
   "execution_count": 1,
   "metadata": {},
   "outputs": [],
   "source": [
    "import numpy as np\n",
    "import matplotlib.pyplot as plt\n",
    "from __future__ import division"
   ]
  },
  {
   "cell_type": "markdown",
   "metadata": {},
   "source": [
    "## Gauss Siedel Verification\n",
    "A comparison of the Gallo Gauss Seidel solver with the analytic solution to the two group diffusion equations. "
   ]
  },
  {
   "cell_type": "markdown",
   "metadata": {},
   "source": [
    "### Problem Set Up \n",
    "(Taken from nptel.ac.in/courses/112101007/downloads/Lecturenotes/Lecture15.pdf)  \n",
    "Assuming steady state, no fission, and no upscattering, the two group diffusion equations take the following form:\n",
    "$$ D_1\\nabla^2 \\phi_1 - \\Sigma_{r, 1 \\rightarrow 1} \\phi_1 + s_1^{'''} = 0$$\n",
    "$$ D_2\\nabla^2 \\phi_2 - \\Sigma_{r, 2 \\rightarrow 2} \\phi_2 + s_2^{'''} + \\Sigma_{s, 1 \\rightarrow 2} \\phi_1 = 0$$\n",
    "\n",
    "where the removal cross section $\\Sigma_{r, g \\rightarrow g} = \\Sigma_{t, g} - \\Sigma_{s, g \\rightarrow g}$\n",
    "With uniform source, we get\n",
    "$$\\nabla^2 \\phi_1 - \\frac{1}{L_1^2} \\phi_1 = -\\frac{1}{D_1}s_1^{'''}$$\n",
    "\n",
    "where $ L_1^2 = \\frac{D_1}{\\Sigma_{r, 1 \\rightarrow 1}}$. The solution takes the form,\n",
    "\n",
    "$$\\phi_1 = \\phi_g + \\phi_p $$ where the homogeneous solution, $\\phi_g = k_1e^{-x/L_1} + k_2e^{x/L_1}$ and $\\phi_p = \\frac{L_1^2}{D_1}s_1^{'''} = \\frac{s_1^{'''}}{\\Sigma_{r, 1 \\rightarrow 1}}. $\n",
    "\n",
    "Using vaccum boundary conditions, $\\phi_1(-a) = \\phi_1(a) = 0$ and the form \n",
    "\n",
    "$$\\phi_1 = k_1 e^{x/L_1} + k_2 e^{-x/L_1} + \\frac{s_1^{'''}}{\\Sigma_{r, 1 \\rightarrow 1}} $$\n",
    "\n",
    "We find constants, $k_1$ and $k_2$ to get the flux in group 1 as:\n",
    "\n",
    "$$\\phi_1 = \\left(1 - \\frac{cosh(x/L_1)}{cosh(a/L_1)}\\right) \\frac{s_1^{'''}}{\\Sigma_{r, 1 \\rightarrow 1}} $$\n",
    "\n",
    "Rewrite equation 2 as:\n",
    "\n",
    "$$ \\nabla^2\\phi_2 - \\frac{1}{L_2^2}\\phi_2 = -\\frac{\\Sigma_{s, 1\\rightarrow 2}}{D_2}\\phi_1 - \\frac{s_2^{'''}}{D_2} $$\n",
    "\n",
    "where $L_2^2 = \\frac{D_2}{\\Sigma_{r, 2 \\rightarrow 2}}$. \n",
    "\n",
    "Plugging $\\phi_1$ in to equation 2 gives \n",
    "\n",
    "$$ \\nabla^2\\phi_2 - \\frac{1}{L_2^2}\\phi_2 = -\\frac{\\Sigma_{s, 1\\rightarrow 2}}{D_2}\\left(1 - \\frac{cosh(x/L_1)}{cosh(a/L_1)}\\right) \\frac{s_1^{'''}}{\\Sigma_{r, 1 \\rightarrow 1}}  - \\frac{s_2^{'''}}{D_2} $$\n",
    "\n",
    "Which we we rewrite as \n",
    "\n",
    "$$ \\nabla^2\\phi_2 - \\frac{\\phi_2}{L_2^2} = C_1 - C_2 cosh(\\frac{x}{L_1})$$\n",
    "\n",
    "where $ C_1 = -\\frac{\\Sigma_{s, 1\\rightarrow 2}s_1^{'''}}{\\Sigma_{r, 1 \\rightarrow 1} D_2}  - \\frac{s_2^{'''}}{D_2} $ and $C_2 = -\\frac{s_1^{'''}\\Sigma_{s, 1 \\rightarrow 2}}{D_2\\Sigma_{r, 1 \\rightarrow 1}cosh(a/L_1)}$.\n",
    "\n",
    "Wolfram Alpha gives the solution as:\n",
    "\n",
    "$$\\phi_2 = -\\frac{C_1L_1^2L_2^2}{(L_1 - L_2)(L_1+L_2)} + \\frac{C_1L_2^4}{(L_1 - L_2)(L_1 + L_2)} + \\frac{L_1^2C_2L_2^2cosh(\\frac{x}{L_1})}{(L_2 - L_2)(L_1 + L_2)} + C_4e^{-x/L_2} + C_5e^{x/L_2}$$\n",
    "\n",
    "Using the following boundary conditions:\n",
    "$$lim_{x\\rightarrow a} \\phi_2 = 0 $$\n",
    "$$lim_{x\\rightarrow -a} \\phi_2 = 0 $$\n",
    "\n",
    "This allows us to write a system of equations:\n",
    "\n",
    "$$0 = E + C_4e^{-a/L_2} + C_5e^{a/L_2}$$\n",
    "$$0 = E + C_4e^{a/L_2} + C_5e^{-a/L_2}$$\n",
    "\n",
    "\n",
    "where $E = A + B + Dcosh(a/L_1) = A + B + Dcosh(-a/L_1)$, since $cosh(x)$ is an even function, and $A = -\\frac{C_1L_1^2L_2^2}{(L_1 - L_2)(L_1+L_2)}$, $B = \\frac{C_1L_2^4}{(L_1 - L_2)(L_1 + L_2)}$ and $D = \\frac{(L_1^2C_2L_2^2}{(L_1 - L_2)(L_1 + L_2)}$\n",
    "\n",
    "$$ C_4 = C_5 = -\\frac{Ee^{a/L_2}}{1 + e^{2a/L_2}}$$"
   ]
  },
  {
   "cell_type": "code",
   "execution_count": 10,
   "metadata": {},
   "outputs": [],
   "source": [
    "source = 1\n",
    "a = 10\n",
    "absorption = np.array([1, 1])\n",
    "scattering = np.array([[11, 1], [0, 11]])\n",
    "total = np.array([13, 12])\n",
    "diffusion = 1/(3*total)\n",
    "removal = np.array([total[0] - scattering[0, 0], total[1] - scattering[1, 1]])\n",
    "L1 = np.sqrt(diffusion[0]/absorption[0])"
   ]
  },
  {
   "cell_type": "code",
   "execution_count": 11,
   "metadata": {},
   "outputs": [],
   "source": [
    "x = np.arange(-a, a, .01)\n",
    "phi_1 = (1 - np.cosh(x/L1)/np.cosh(a/L1))*source/removal[0]"
   ]
  },
  {
   "cell_type": "code",
   "execution_count": 12,
   "metadata": {},
   "outputs": [],
   "source": [
    "L2 = np.sqrt(diffusion[1]/removal[1])\n",
    "C1 = -source*scattering[0, 1]/(diffusion[1]*removal[0]) - source/diffusion[1]\n",
    "C2 = -source*scattering[0, 1]/(diffusion[1]*removal[0]*np.cosh(a/L1))\n",
    "A = -(C1*L1**2*L2**2)/((L1 - L2)*(L1 + L2))\n",
    "B = (C1*L2**4)/((L1 - L2)*(L1 + L2))\n",
    "D = (L1**2*C2*L2**2)/((L1 - L2)*(L1 + L2))\n",
    "E = A + B + D*np.cosh(a/L1)\n",
    "C4 = -(np.exp(a/L2)*E)/(1 + np.exp(2*a/L2))\n",
    "C5 = C4\n",
    "phi_2 = E + C4*np.exp(-x/L2) + C5*np.exp(x/L2)"
   ]
  },
  {
   "cell_type": "code",
   "execution_count": null,
   "metadata": {},
   "outputs": [],
   "source": []
  },
  {
   "cell_type": "code",
   "execution_count": 13,
   "metadata": {
    "scrolled": true
   },
   "outputs": [
    {
     "data": {
      "image/png": "[encoded data removed]",
      "text/plain": [
       "<Figure size 432x288 with 1 Axes>"
      ]
     },
     "metadata": {},
     "output_type": "display_data"
    }
   ],
   "source": [
    "plt.plot(x, phi_1, label=\"Phi_1\")\n",
    "plt.plot(x, phi_2, label=\"Phi_2\")\n",
    "plt.title(\"1D Diffusion\")\n",
    "plt.legend()\n",
    "plt.show()"
   ]
  },
  {
   "cell_type": "markdown",
   "metadata": {},
   "source": [
    "## Gut Checks"
   ]
  },
  {
   "cell_type": "markdown",
   "metadata": {},
   "source": [
    "### Analytic Max"
   ]
  },
  {
   "cell_type": "code",
   "execution_count": 14,
   "metadata": {},
   "outputs": [
    {
     "data": {
      "text/plain": [
       "0.5"
      ]
     },
     "execution_count": 14,
     "metadata": {},
     "output_type": "execute_result"
    }
   ],
   "source": [
    "np.max(phi_1)"
   ]
  },
  {
   "cell_type": "code",
   "execution_count": 15,
   "metadata": {},
   "outputs": [
    {
     "data": {
      "text/plain": [
       "7.500000000000007"
      ]
     },
     "execution_count": 15,
     "metadata": {},
     "output_type": "execute_result"
    }
   ],
   "source": [
    "np.max(phi_2)"
   ]
  },
  {
   "cell_type": "markdown",
   "metadata": {},
   "source": [
    "### Compare with \n",
    "\n",
    "$$\\phi_{1, max} = \\frac{s_1^{'''}}{\\Sigma_{r, 1 \\rightarrow 1}}$$\n",
    "\n",
    "$$ \\phi_{2, max} = \\frac{s_2^{'''}+\\phi_{1, max}\\Sigma_{s, 1\\rightarrow 2}}{\\Sigma_{r, 2 \\rightarrow 2}}$$"
   ]
  },
  {
   "cell_type": "code",
   "execution_count": 16,
   "metadata": {},
   "outputs": [
    {
     "data": {
      "text/plain": [
       "0.5"
      ]
     },
     "execution_count": 16,
     "metadata": {},
     "output_type": "execute_result"
    }
   ],
   "source": [
    "phi1_max = source/removal[0]\n",
    "phi1_max"
   ]
  },
  {
   "cell_type": "code",
   "execution_count": 17,
   "metadata": {},
   "outputs": [
    {
     "data": {
      "text/plain": [
       "1.5"
      ]
     },
     "execution_count": 17,
     "metadata": {},
     "output_type": "execute_result"
    }
   ],
   "source": [
    "(source + phi1_max*scattering[0, 1])/removal[1]"
   ]
  },
  {
   "cell_type": "code",
   "execution_count": 12,
   "metadata": {},
   "outputs": [
    {
     "data": {
      "text/plain": [
       "array([11, 10])"
      ]
     },
     "execution_count": 12,
     "metadata": {},
     "output_type": "execute_result"
    }
   ],
   "source": [
    "removal"
   ]
  },
  {
   "cell_type": "code",
   "execution_count": null,
   "metadata": {},
   "outputs": [],
   "source": []
  }
 ],
 "metadata": {
  "kernelspec": {
   "display_name": "Python 3",
   "language": "python",
   "name": "python3"
  },
  "language_info": {
   "codemirror_mode": {
    "name": "ipython",
    "version": 3
   },
   "file_extension": ".py",
   "mimetype": "text/x-python",
   "name": "python",
   "nbconvert_exporter": "python",
   "pygments_lexer": "ipython3",
   "version": "3.6.5"
  }
 },
 "nbformat": 4,
 "nbformat_minor": 2
}
