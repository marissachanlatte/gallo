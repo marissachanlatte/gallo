{
 "cells": [
  {
   "cell_type": "code",
   "execution_count": 3,
   "metadata": {},
   "outputs": [],
   "source": [
    "import numpy as np\n",
    "import matplotlib.pyplot as plt"
   ]
  },
  {
   "cell_type": "markdown",
   "metadata": {},
   "source": [
    "## Gauss Siedel Verification\n",
    "A comparison of the Gallo Gauss Seidel solver with the analytic solution to the two group diffusion equations. "
   ]
  },
  {
   "cell_type": "markdown",
   "metadata": {},
   "source": [
    "### Problem Set Up \n",
    "(Taken from nptel.ac.in/courses/112101007/downloads/Lecturenotes/Lecture15.pdf)  \n",
    "Assuming steady state, no fission, and no upscattering, the two group diffusion equations take the following form:\n",
    "$$ D_1\\nabla^2 \\phi_1 - \\Sigma_{a, 1} \\phi_1 + s_1^{'''} - \\Sigma_{s, 1 \\rightarrow 2} \\phi_1 = 0$$\n",
    "$$ D_2\\nabla^2 \\phi_2 - \\Sigma_{a, 2} \\phi_2 + s_2^{'''} + \\Sigma_{s, 1 \\rightarrow 2} \\phi_1 = 0$$\n",
    "With uniform source and negligible scattering in the first group, we get\n",
    "$$\\nabla^2 \\phi_1 - \\frac{1}{\\tau} \\phi_1 = \\frac{1}{D}s_1^{'''}$$\n",
    "\n",
    "where $ \\tau = \\frac{D_1}{\\Sigma_{s, 1 \\rightarrow 2}}$. Note how similar this form is to the one group, uniform diffusion equation. It gives a similar solution on the domain $-1 \\leq x \\leq 1$:\n",
    "\n",
    "$$\\phi_1 = \\left(1 - \\frac{cosh(x/\\sqrt{\\tau})}{cosh(1/\\sqrt{\\tau})}\\right) \\frac{s_1^{'''}}{\\Sigma_{a, 1}} $$\n",
    "\n",
    "Rewrite equation 2 as:\n",
    "\n",
    "$$ \\nabla^2\\phi_2 - \\frac{1}{L^2}\\phi_2 = -\\frac{\\Sigma_{s, 1\\rightarrow 2}}{D_2}\\phi_1 $$\n",
    "\n",
    "where $L^2 = \\frac{D_2}{\\Sigma_{a, 2}}$. \n",
    "\n",
    "Plugging $\\phi_1$ in to equation 2 gives \n",
    "\n",
    "$$ \\nabla^2\\phi_2 - \\frac{1}{L^2}\\phi_2 = -\\frac{\\Sigma_{s, 1\\rightarrow 2}}{D_2}\\left(1 - \\frac{cosh(x/\\sqrt{\\tau})}{cosh(1/\\sqrt{\\tau})}\\right) \\frac{s_1^{'''}}{\\Sigma_{a, 1}} $$\n",
    "\n",
    "Which we we rewrite as \n",
    "\n",
    "$$ \\nabla^2\\phi_2 - \\frac{\\phi_2}{L^2} = C_1 - C_2 cosh(\\frac{x}{C_3})$$\n",
    "\n",
    "where $ C_1 = -\\frac{s_1^{'''}\\Sigma_{s, 1\\rightarrow 2} }{D_2\\Sigma_{a, 1}} $ , $C_2 = -\\frac{s_1^{'''}\\Sigma_{s, 1\\rightarrow 2} }{D_2\\Sigma_{a, 1}cosh(1/\\sqrt{\\tau})}$ and $C_3 = \\sqrt{\\tau}$.\n",
    "\n",
    "Wolfram Alpha gives the solution as:\n",
    "\n",
    "$$\\phi_2 = -\\frac{C_1C_3^2L^2}{(C_3 - L)(C_3+L)} + \\frac{C_1L^4}{(C_3 - L)(C_3 + L)} + \\frac{(C_3^2C_2L^2cosh(\\frac{x}{C_3})}{(C_3 - L)(C_3 + L)} + C_4e^{-x/L} + C_5e^{x/L}$$\n",
    "\n",
    "Using the following boundary conditions:\n",
    "$$lim_{x\\rightarrow 1} \\phi_2 = 0 $$\n",
    "$$lim_{x\\rightarrow -1} \\phi_2 = 0 $$\n",
    "\n",
    "This allows us to write a system of equations:\n",
    "\n",
    "$$0 = E + C_4e^{-1/L} + C_5e^{1/L}$$\n",
    "$$0 = E + C_4e^{1/L} + C_5e^{-1/L}$$\n",
    "\n",
    "\n",
    "where $E = A + B + Dcosh(1/C_3) = A + B + Dcosh(-1/C_3)$, since $cosh(x)$ is an even function, and $A = -\\frac{C_1C_3^2L^2}{(C_3 - L)(C_3+L)}$, $B = \\frac{C_1L^4}{(C_3 - L)(C_3 + L)}$ and $D = \\frac{(C_3^2C_2L^2}{(C_3 - L)(C_3 + L)}$\n",
    "\n",
    "$$C_5 = \\frac{E(1-e^{2/L})}{e^{3/L}+e^{-1/L}} $$\n",
    "$$C_4 = \\frac{-E(e^{2/L} - 1)}{e^{3/L} - e^{-1/L}}$$"
   ]
  },
  {
   "cell_type": "code",
   "execution_count": 23,
   "metadata": {},
   "outputs": [],
   "source": [
    "source = 10\n",
    "absorption = np.array([10, 10])\n",
    "scattering = np.array([[1, 1], [0, 1]])\n",
    "total = np.array([12, 11])\n",
    "diffusion = 1/(3*total)\n",
    "tau = diffusion[0]/scattering[0, 1]"
   ]
  },
  {
   "cell_type": "code",
   "execution_count": 24,
   "metadata": {},
   "outputs": [],
   "source": [
    "x = np.arange(-1, 1, .01)\n",
    "phi_1 = (1 - np.cosh(x/np.sqrt(tau))/np.cosh(1/np.sqrt(tau)))*source/absorption[0]"
   ]
  },
  {
   "cell_type": "code",
   "execution_count": 25,
   "metadata": {},
   "outputs": [],
   "source": [
    "C1 = -source*scattering[0, 1]/(diffusion[1]*absorption[0])\n",
    "C2 = -source*scattering[0, 1]/(diffusion[1]*absorption[0]*np.cosh(1/np.sqrt(tau)))\n",
    "C3 = np.sqrt(tau)\n",
    "L = np.sqrt(diffusion[1]/absorption[1])\n",
    "A = -(C1*C3**2*L**2)/((C3 - L)*(C3 + L))\n",
    "B = (C1*L**4)/((C3 - L)*(C3 + L))\n",
    "D = (C3**2*C2*L**2)/((C3 - L)*(C3 + L))\n",
    "E = A + B + D*np.cosh(1/C3)\n",
    "C4 = -E*(np.exp(2/L) - 1)/(np.exp(3/L) - np.exp(-1/L))\n",
    "C5 = E*(1 - np.exp(2/L))/(np.exp(3/L) - np.exp(-1/L))\n",
    "phi_2 = A + B + D*np.cosh(x/C3) + C4*np.exp(-x/L) + C5*np.exp(x/L)"
   ]
  },
  {
   "cell_type": "code",
   "execution_count": 26,
   "metadata": {
    "scrolled": true
   },
   "outputs": [
    {
     "data": {
      "text/plain": [
       "<matplotlib.legend.Legend at 0x10cbf6208>"
      ]
     },
     "execution_count": 26,
     "metadata": {},
     "output_type": "execute_result"
    },
    {
     "data": {
      "image/png": "[encoded data removed]",
      "text/plain": [
       "<Figure size 432x288 with 1 Axes>"
      ]
     },
     "metadata": {},
     "output_type": "display_data"
    }
   ],
   "source": [
    "plt.plot(x, phi_1, label=\"Phi_1\")\n",
    "plt.plot(x, phi_2, label=\"Phi_2\")\n",
    "plt.title(\"1D Diffusion\")\n",
    "plt.legend()"
   ]
  },
  {
   "cell_type": "code",
   "execution_count": null,
   "metadata": {},
   "outputs": [],
   "source": []
  }
 ],
 "metadata": {
  "kernelspec": {
   "display_name": "Python 3",
   "language": "python",
   "name": "python3"
  },
  "language_info": {
   "codemirror_mode": {
    "name": "ipython",
    "version": 3
   },
   "file_extension": ".py",
   "mimetype": "text/x-python",
   "name": "python",
   "nbconvert_exporter": "python",
   "pygments_lexer": "ipython3",
   "version": "3.6.5"
  }
 },
 "nbformat": 4,
 "nbformat_minor": 2
}
